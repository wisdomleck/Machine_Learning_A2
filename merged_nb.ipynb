{
 "cells": [
  {
   "cell_type": "markdown",
   "metadata": {},
   "source": [
    "# Machine Learning Assignment 2"
   ]
  },
  {
   "cell_type": "markdown",
   "metadata": {},
   "source": [
    "- [EDA](#EDA)"
   ]
  },
  {
   "cell_type": "markdown",
   "metadata": {},
   "source": [
    "## Imports\n"
   ]
  },
  {
   "cell_type": "code",
   "execution_count": 4,
   "metadata": {},
   "outputs": [],
   "source": [
    "# Need these\n",
    "import pandas as pd\n",
    "import numpy as np\n",
    "import scipy\n",
    "import matplotlib.pyplot as plt\n",
    "\n",
    "#Natural language toolkit. Download if not installed already\n",
    "import nltk\n",
    "from nltk import WordNetLemmatizer\n",
    "#nltk.download('stopwords')\n",
    "#nltk.download('wordnet')\n",
    "\n",
    "# For splitting by punctuation and using regex\n",
    "import re\n",
    "import string\n",
    "\n",
    "# Useful\n",
    "from sklearn.model_selection import train_test_split\n",
    "from sklearn.model_selection import cross_val_score\n",
    "from sklearn.feature_extraction.text import CountVectorizer\n",
    "from sklearn.feature_selection import SelectKBest, chi2\n",
    "\n",
    "# Potentially used Models\n",
    "from sklearn.ensemble import RandomForestClassifier, AdaBoostClassifier\n",
    "from sklearn.tree import DecisionTreeClassifier\n",
    "from sklearn.linear_model import LogisticRegression\n",
    "from sklearn.linear_model import LinearRegression\n",
    "from sklearn.naive_bayes import MultinomialNB, BernoulliNB, GaussianNB\n",
    "from sklearn.svm import LinearSVC, SVC\n",
    "\n",
    "# Evaluation and feature selection tools\n",
    "from sklearn.metrics import classification_report, accuracy_score, confusion_matrix, plot_confusion_matrix\n",
    "from sklearn.feature_selection import chi2, mutual_info_classif\n",
    "\n",
    "#benchmark\n",
    "from sklearn.dummy import DummyClassifier"
   ]
  },
  {
   "cell_type": "code",
   "execution_count": 5,
   "metadata": {},
   "outputs": [],
   "source": [
    "from datetime import datetime"
   ]
  },
  {
   "cell_type": "markdown",
   "metadata": {},
   "source": [
    "# Files"
   ]
  },
  {
   "cell_type": "code",
   "execution_count": 6,
   "metadata": {},
   "outputs": [],
   "source": [
    "# read in train and test data\n",
    "\n",
    "meta_train_df = pd.read_csv(\"review_meta_train.csv\")\n",
    "text_train_df = pd.read_csv(\"review_text_train.csv\")\n",
    "train_data = pd.concat([text_train_df, meta_train_df], axis=1)\n",
    "\n",
    "meta_test_df = pd.read_csv(\"review_meta_test.csv\")\n",
    "text_test_df = pd.read_csv(\"review_text_test.csv\")\n",
    "test_data = pd.concat([text_test_df, meta_test_df], axis=1)"
   ]
  },
  {
   "cell_type": "code",
   "execution_count": 7,
   "metadata": {},
   "outputs": [
    {
     "data": {
      "text/html": [
       "<div>\n",
       "<style scoped>\n",
       "    .dataframe tbody tr th:only-of-type {\n",
       "        vertical-align: middle;\n",
       "    }\n",
       "\n",
       "    .dataframe tbody tr th {\n",
       "        vertical-align: top;\n",
       "    }\n",
       "\n",
       "    .dataframe thead th {\n",
       "        text-align: right;\n",
       "    }\n",
       "</style>\n",
       "<table border=\"1\" class=\"dataframe\">\n",
       "  <thead>\n",
       "    <tr style=\"text-align: right;\">\n",
       "      <th></th>\n",
       "      <th>review</th>\n",
       "      <th>date</th>\n",
       "      <th>review_id</th>\n",
       "      <th>reviewer_id</th>\n",
       "      <th>business_id</th>\n",
       "      <th>vote_funny</th>\n",
       "      <th>vote_cool</th>\n",
       "      <th>vote_useful</th>\n",
       "      <th>rating</th>\n",
       "    </tr>\n",
       "  </thead>\n",
       "  <tbody>\n",
       "    <tr>\n",
       "      <th>0</th>\n",
       "      <td>dear longman &amp; eagle.......you've left me no c...</td>\n",
       "      <td>3/15/2012</td>\n",
       "      <td>-s77HISu8DVQ8F0HxmWW6A</td>\n",
       "      <td>mthr7h15a_z9m9jRI6mG6Q</td>\n",
       "      <td>m5_GCJP2W4zEJnyVgxa3eA</td>\n",
       "      <td>0</td>\n",
       "      <td>1</td>\n",
       "      <td>3</td>\n",
       "      <td>1</td>\n",
       "    </tr>\n",
       "    <tr>\n",
       "      <th>1</th>\n",
       "      <td>Delish. The hubby and I wanted to do brunch on...</td>\n",
       "      <td>6/21/2010</td>\n",
       "      <td>A2aCzGCgg6gAbatHiCrPfA</td>\n",
       "      <td>rhM01fl3iU0xHr3TIpCMhQ</td>\n",
       "      <td>m5_GCJP2W4zEJnyVgxa3eA</td>\n",
       "      <td>0</td>\n",
       "      <td>0</td>\n",
       "      <td>0</td>\n",
       "      <td>5</td>\n",
       "    </tr>\n",
       "    <tr>\n",
       "      <th>2</th>\n",
       "      <td>yep, I've giving Yolk 5 stars. It's just reall...</td>\n",
       "      <td>7/29/2011</td>\n",
       "      <td>DK2pd</td>\n",
       "      <td>SNHKDgmGiLn5chUlhdLCkg</td>\n",
       "      <td>CwPi6NVuJIZZx4IBcTekFQ</td>\n",
       "      <td>1</td>\n",
       "      <td>0</td>\n",
       "      <td>1</td>\n",
       "      <td>5</td>\n",
       "    </tr>\n",
       "    <tr>\n",
       "      <th>3</th>\n",
       "      <td>Meat, meat, meat. It's meat-tastic. So much me...</td>\n",
       "      <td>3/10/2006</td>\n",
       "      <td>b3BkUiWJEKNQko</td>\n",
       "      <td>HXjk1RVfLMPeZxitnk1Auw</td>\n",
       "      <td>43rd1LKcZRIunySzbMsyLQ</td>\n",
       "      <td>17</td>\n",
       "      <td>3</td>\n",
       "      <td>3</td>\n",
       "      <td>3</td>\n",
       "    </tr>\n",
       "    <tr>\n",
       "      <th>4</th>\n",
       "      <td>I caught up with the law school girls on a Sat...</td>\n",
       "      <td>8/28/2012</td>\n",
       "      <td>RabHhte</td>\n",
       "      <td>W0ny0BqO0OJ4K4aVnSIlBw</td>\n",
       "      <td>CwPi6NVuJIZZx4IBcTekFQ</td>\n",
       "      <td>0</td>\n",
       "      <td>0</td>\n",
       "      <td>0</td>\n",
       "      <td>3</td>\n",
       "    </tr>\n",
       "  </tbody>\n",
       "</table>\n",
       "</div>"
      ],
      "text/plain": [
       "                                              review       date  \\\n",
       "0  dear longman & eagle.......you've left me no c...  3/15/2012   \n",
       "1  Delish. The hubby and I wanted to do brunch on...  6/21/2010   \n",
       "2  yep, I've giving Yolk 5 stars. It's just reall...  7/29/2011   \n",
       "3  Meat, meat, meat. It's meat-tastic. So much me...  3/10/2006   \n",
       "4  I caught up with the law school girls on a Sat...  8/28/2012   \n",
       "\n",
       "                review_id             reviewer_id             business_id  \\\n",
       "0  -s77HISu8DVQ8F0HxmWW6A  mthr7h15a_z9m9jRI6mG6Q  m5_GCJP2W4zEJnyVgxa3eA   \n",
       "1  A2aCzGCgg6gAbatHiCrPfA  rhM01fl3iU0xHr3TIpCMhQ  m5_GCJP2W4zEJnyVgxa3eA   \n",
       "2                   DK2pd  SNHKDgmGiLn5chUlhdLCkg  CwPi6NVuJIZZx4IBcTekFQ   \n",
       "3          b3BkUiWJEKNQko  HXjk1RVfLMPeZxitnk1Auw  43rd1LKcZRIunySzbMsyLQ   \n",
       "4                 RabHhte  W0ny0BqO0OJ4K4aVnSIlBw  CwPi6NVuJIZZx4IBcTekFQ   \n",
       "\n",
       "   vote_funny  vote_cool  vote_useful  rating  \n",
       "0           0          1            3       1  \n",
       "1           0          0            0       5  \n",
       "2           1          0            1       5  \n",
       "3          17          3            3       3  \n",
       "4           0          0            0       3  "
      ]
     },
     "execution_count": 7,
     "metadata": {},
     "output_type": "execute_result"
    }
   ],
   "source": [
    "train_data.head()"
   ]
  },
  {
   "cell_type": "code",
   "execution_count": 8,
   "metadata": {},
   "outputs": [],
   "source": [
    "# doc2vec 50, 100, 200 features vector for training\n",
    "d2v_50_train = pd.read_csv(r\"review_text_features_doc2vec50/review_text_train_doc2vec50.csv\", index_col = False, delimiter = \",\", header=None)\n",
    "d2v_100_train = pd.read_csv(r\"review_text_features_doc2vec100/review_text_train_doc2vec100.csv\", index_col = False, delimiter = \",\", header=None)\n",
    "d2v_200_train = pd.read_csv(r\"review_text_features_doc2vec200/review_text_train_doc2vec200.csv\", index_col = False, delimiter = \",\", header=None)\n",
    "\n",
    "# doc2vec 50, 100, 200 features vector for testing\n",
    "d2v_50_test = pd.read_csv(r\"review_text_features_doc2vec50/review_text_test_doc2vec50.csv\", index_col = False, delimiter = \",\", header=None)\n",
    "d2v_100_test = pd.read_csv(r\"review_text_features_doc2vec100/review_text_test_doc2vec100.csv\", index_col = False, delimiter = \",\", header=None)\n",
    "d2v_200_test = pd.read_csv(r\"review_text_features_doc2vec200/review_text_test_doc2vec200.csv\", index_col = False, delimiter = \",\", header=None)"
   ]
  },
  {
   "cell_type": "markdown",
   "metadata": {},
   "source": [
    "## EDA"
   ]
  },
  {
   "cell_type": "markdown",
   "metadata": {},
   "source": [
    "lets take a quick look at the class labels..."
   ]
  },
  {
   "cell_type": "code",
   "execution_count": 9,
   "metadata": {},
   "outputs": [
    {
     "name": "stdout",
     "output_type": "stream",
     "text": [
      "5    19288\n",
      "3     6444\n",
      "1     2336\n",
      "Name: rating, dtype: int64\n"
     ]
    }
   ],
   "source": [
    "print(train_data['rating'].value_counts())"
   ]
  },
  {
   "cell_type": "markdown",
   "metadata": {},
   "source": [
    "Looks like 5 stars is by far the most popular class. Potentially could look to undersample class 5 or oversample classes 1 and 3 when training the data. Otherwise, the learner might get lazy and select the majority class too often. As a benchmark, we can look to outperform the ZeroR classifier."
   ]
  },
  {
   "cell_type": "code",
   "execution_count": 10,
   "metadata": {},
   "outputs": [
    {
     "name": "stdout",
     "output_type": "stream",
     "text": [
      "zeroR accuracy is 0.6872...\n"
     ]
    }
   ],
   "source": [
    "zeroR = DummyClassifier(strategy = \"most_frequent\")\n",
    "zeroR.fit(train_data.rating, train_data.rating)\n",
    "score = zeroR.score(train_data.rating, train_data.rating)\n",
    "print(\"zeroR accuracy is {:.4f}...\".format(score))"
   ]
  },
  {
   "cell_type": "markdown",
   "metadata": {},
   "source": [
    "exploration of the meta data..."
   ]
  },
  {
   "cell_type": "code",
   "execution_count": 11,
   "metadata": {},
   "outputs": [
    {
     "data": {
      "text/html": [
       "<div>\n",
       "<style scoped>\n",
       "    .dataframe tbody tr th:only-of-type {\n",
       "        vertical-align: middle;\n",
       "    }\n",
       "\n",
       "    .dataframe tbody tr th {\n",
       "        vertical-align: top;\n",
       "    }\n",
       "\n",
       "    .dataframe thead th {\n",
       "        text-align: right;\n",
       "    }\n",
       "</style>\n",
       "<table border=\"1\" class=\"dataframe\">\n",
       "  <thead>\n",
       "    <tr style=\"text-align: right;\">\n",
       "      <th></th>\n",
       "      <th>count</th>\n",
       "      <th>rating</th>\n",
       "    </tr>\n",
       "  </thead>\n",
       "  <tbody>\n",
       "    <tr>\n",
       "      <th>0</th>\n",
       "      <td>1</td>\n",
       "      <td>15777</td>\n",
       "    </tr>\n",
       "    <tr>\n",
       "      <th>1</th>\n",
       "      <td>2</td>\n",
       "      <td>2596</td>\n",
       "    </tr>\n",
       "    <tr>\n",
       "      <th>2</th>\n",
       "      <td>3</td>\n",
       "      <td>805</td>\n",
       "    </tr>\n",
       "    <tr>\n",
       "      <th>3</th>\n",
       "      <td>4</td>\n",
       "      <td>364</td>\n",
       "    </tr>\n",
       "    <tr>\n",
       "      <th>4</th>\n",
       "      <td>5</td>\n",
       "      <td>208</td>\n",
       "    </tr>\n",
       "    <tr>\n",
       "      <th>5</th>\n",
       "      <td>6</td>\n",
       "      <td>103</td>\n",
       "    </tr>\n",
       "    <tr>\n",
       "      <th>6</th>\n",
       "      <td>7</td>\n",
       "      <td>74</td>\n",
       "    </tr>\n",
       "    <tr>\n",
       "      <th>7</th>\n",
       "      <td>8</td>\n",
       "      <td>37</td>\n",
       "    </tr>\n",
       "    <tr>\n",
       "      <th>8</th>\n",
       "      <td>9</td>\n",
       "      <td>24</td>\n",
       "    </tr>\n",
       "    <tr>\n",
       "      <th>9</th>\n",
       "      <td>10</td>\n",
       "      <td>11</td>\n",
       "    </tr>\n",
       "    <tr>\n",
       "      <th>10</th>\n",
       "      <td>11</td>\n",
       "      <td>8</td>\n",
       "    </tr>\n",
       "    <tr>\n",
       "      <th>11</th>\n",
       "      <td>12</td>\n",
       "      <td>7</td>\n",
       "    </tr>\n",
       "    <tr>\n",
       "      <th>12</th>\n",
       "      <td>15</td>\n",
       "      <td>5</td>\n",
       "    </tr>\n",
       "    <tr>\n",
       "      <th>13</th>\n",
       "      <td>16</td>\n",
       "      <td>4</td>\n",
       "    </tr>\n",
       "    <tr>\n",
       "      <th>14</th>\n",
       "      <td>14</td>\n",
       "      <td>3</td>\n",
       "    </tr>\n",
       "    <tr>\n",
       "      <th>15</th>\n",
       "      <td>13</td>\n",
       "      <td>3</td>\n",
       "    </tr>\n",
       "    <tr>\n",
       "      <th>16</th>\n",
       "      <td>19</td>\n",
       "      <td>2</td>\n",
       "    </tr>\n",
       "  </tbody>\n",
       "</table>\n",
       "</div>"
      ],
      "text/plain": [
       "    count  rating\n",
       "0       1   15777\n",
       "1       2    2596\n",
       "2       3     805\n",
       "3       4     364\n",
       "4       5     208\n",
       "5       6     103\n",
       "6       7      74\n",
       "7       8      37\n",
       "8       9      24\n",
       "9      10      11\n",
       "10     11       8\n",
       "11     12       7\n",
       "12     15       5\n",
       "13     16       4\n",
       "14     14       3\n",
       "15     13       3\n",
       "16     19       2"
      ]
     },
     "execution_count": 11,
     "metadata": {},
     "output_type": "execute_result"
    }
   ],
   "source": [
    "rating_value_counts = train_data.groupby(['reviewer_id'])['rating'].count().reset_index().rating.value_counts()\n",
    "rating_value_counts = rating_value_counts.reset_index().rename(columns = {\"index\": \"count\"})\n",
    "rating_value_counts"
   ]
  },
  {
   "cell_type": "code",
   "execution_count": 12,
   "metadata": {},
   "outputs": [
    {
     "data": {
      "text/plain": [
       "[<matplotlib.lines.Line2D at 0x236a8f05488>]"
      ]
     },
     "execution_count": 12,
     "metadata": {},
     "output_type": "execute_result"
    },
    {
     "data": {
      "image/png": "[encoded data removed]",
      "text/plain": [
       "<Figure size 432x288 with 1 Axes>"
      ]
     },
     "metadata": {
      "needs_background": "light"
     },
     "output_type": "display_data"
    }
   ],
   "source": [
    "plt.plot(rating_value_counts[\"count\"], rating_value_counts[\"rating\"])"
   ]
  },
  {
   "cell_type": "markdown",
   "metadata": {},
   "source": [
    "A vast majority of reviewers have either 1 or 2 reviews... However, some reviewers have multiple reviews. This could be a useful feature to detect some edge cases..."
   ]
  },
  {
   "cell_type": "code",
   "execution_count": 13,
   "metadata": {},
   "outputs": [],
   "source": [
    "# transform the vote counts into percentage votes \n",
    "\n",
    "votes = ['vote_funny', 'vote_cool', 'vote_useful']\n",
    "# votes_df = train_data[['vote_funny', 'vote_cool', 'vote_useful', 'rating']]\n",
    "train_data['total_votes'] = train_data['vote_funny'] + train_data['vote_cool'] + train_data['vote_useful']\n",
    "\n",
    "for vote in votes:\n",
    "    percentage_votes = 'percentage_' + vote\n",
    "    train_data[percentage_votes] = train_data[vote] / train_data['total_votes']\n",
    "    \n",
    "train_data = train_data.fillna(0)"
   ]
  },
  {
   "cell_type": "code",
   "execution_count": 14,
   "metadata": {},
   "outputs": [
    {
     "data": {
      "text/html": [
       "<div>\n",
       "<style scoped>\n",
       "    .dataframe tbody tr th:only-of-type {\n",
       "        vertical-align: middle;\n",
       "    }\n",
       "\n",
       "    .dataframe tbody tr th {\n",
       "        vertical-align: top;\n",
       "    }\n",
       "\n",
       "    .dataframe thead tr th {\n",
       "        text-align: left;\n",
       "    }\n",
       "\n",
       "    .dataframe thead tr:last-of-type th {\n",
       "        text-align: right;\n",
       "    }\n",
       "</style>\n",
       "<table border=\"1\" class=\"dataframe\">\n",
       "  <thead>\n",
       "    <tr>\n",
       "      <th></th>\n",
       "      <th>percentage_vote_funny</th>\n",
       "      <th>percentage_vote_cool</th>\n",
       "      <th>percentage_vote_useful</th>\n",
       "    </tr>\n",
       "    <tr>\n",
       "      <th></th>\n",
       "      <th>mean</th>\n",
       "      <th>mean</th>\n",
       "      <th>mean</th>\n",
       "    </tr>\n",
       "    <tr>\n",
       "      <th>rating</th>\n",
       "      <th></th>\n",
       "      <th></th>\n",
       "      <th></th>\n",
       "    </tr>\n",
       "  </thead>\n",
       "  <tbody>\n",
       "    <tr>\n",
       "      <th>1</th>\n",
       "      <td>0.142341</td>\n",
       "      <td>0.051008</td>\n",
       "      <td>0.289528</td>\n",
       "    </tr>\n",
       "    <tr>\n",
       "      <th>3</th>\n",
       "      <td>0.088110</td>\n",
       "      <td>0.088423</td>\n",
       "      <td>0.260617</td>\n",
       "    </tr>\n",
       "    <tr>\n",
       "      <th>5</th>\n",
       "      <td>0.075794</td>\n",
       "      <td>0.130812</td>\n",
       "      <td>0.214226</td>\n",
       "    </tr>\n",
       "  </tbody>\n",
       "</table>\n",
       "</div>"
      ],
      "text/plain": [
       "       percentage_vote_funny percentage_vote_cool percentage_vote_useful\n",
       "                        mean                 mean                   mean\n",
       "rating                                                                  \n",
       "1                   0.142341             0.051008               0.289528\n",
       "3                   0.088110             0.088423               0.260617\n",
       "5                   0.075794             0.130812               0.214226"
      ]
     },
     "execution_count": 14,
     "metadata": {},
     "output_type": "execute_result"
    }
   ],
   "source": [
    "train_data.groupby(['rating']).agg(\n",
    "    {\n",
    "        'percentage_vote_funny': ['mean'], \n",
    "        'percentage_vote_cool': ['mean'],\n",
    "        'percentage_vote_useful': ['mean']\n",
    "    }\n",
    ")"
   ]
  },
  {
   "cell_type": "markdown",
   "metadata": {},
   "source": [
    "There appears to be directionality between the mean percentage votes and the rating someone is given... Perhaps this could be useful in cases where a machine learning algorithm cannot detect sarcasm by itself. Lets look at some of these funny reviews as an example!"
   ]
  },
  {
   "cell_type": "code",
   "execution_count": 15,
   "metadata": {},
   "outputs": [
    {
     "data": {
      "text/plain": [
       "\"snooze-a-roo. I ordered some breakfast sandwich, and when it showed up, it was just a croissant with two strips of bacon on it and nothing else, so fifteen minutes later when the waitress came back and I complained, she brought me a plate with the other stuff that was supposed to come on it. It cost 12 dollars and the wait is a half hour to be smashed in a corner where there is nowhere to put your winter coat. I can't understand the appeal of this place. I would recommend that folks try anything else for breakfast. Maybe a donkey punch or a dirty sanchez would be more satisfying.\\n\""
      ]
     },
     "execution_count": 15,
     "metadata": {},
     "output_type": "execute_result"
    }
   ],
   "source": [
    "train_data.loc[(train_data.rating == 1) & (train_data.percentage_vote_funny > 0.5)].reset_index().iloc[0].review"
   ]
  },
  {
   "cell_type": "markdown",
   "metadata": {},
   "source": [
    "The author is being sarcastic \"Maybe a donkey punch or a dirty sanchez would be more satisfying\" but you would also expect this review to receive a negative rating..."
   ]
  },
  {
   "cell_type": "markdown",
   "metadata": {},
   "source": [
    "What about data? are critics getting harsher over time, or is there another trend we are able to detect?"
   ]
  },
  {
   "cell_type": "code",
   "execution_count": 16,
   "metadata": {},
   "outputs": [],
   "source": [
    "train_data['date'] = pd.to_datetime(train_data['date'])"
   ]
  },
  {
   "cell_type": "code",
   "execution_count": 17,
   "metadata": {},
   "outputs": [],
   "source": [
    "train_data['year'] = train_data['date'].apply(lambda x: x.year)"
   ]
  },
  {
   "cell_type": "code",
   "execution_count": 18,
   "metadata": {},
   "outputs": [
    {
     "data": {
      "text/html": [
       "<div>\n",
       "<style scoped>\n",
       "    .dataframe tbody tr th:only-of-type {\n",
       "        vertical-align: middle;\n",
       "    }\n",
       "\n",
       "    .dataframe tbody tr th {\n",
       "        vertical-align: top;\n",
       "    }\n",
       "\n",
       "    .dataframe thead tr th {\n",
       "        text-align: left;\n",
       "    }\n",
       "\n",
       "    .dataframe thead tr:last-of-type th {\n",
       "        text-align: right;\n",
       "    }\n",
       "</style>\n",
       "<table border=\"1\" class=\"dataframe\">\n",
       "  <thead>\n",
       "    <tr>\n",
       "      <th></th>\n",
       "      <th colspan=\"2\" halign=\"left\">rating</th>\n",
       "    </tr>\n",
       "    <tr>\n",
       "      <th></th>\n",
       "      <th>mean</th>\n",
       "      <th>count</th>\n",
       "    </tr>\n",
       "    <tr>\n",
       "      <th>year</th>\n",
       "      <th></th>\n",
       "      <th></th>\n",
       "    </tr>\n",
       "  </thead>\n",
       "  <tbody>\n",
       "    <tr>\n",
       "      <th>2004</th>\n",
       "      <td>5.000000</td>\n",
       "      <td>4</td>\n",
       "    </tr>\n",
       "    <tr>\n",
       "      <th>2005</th>\n",
       "      <td>4.580000</td>\n",
       "      <td>100</td>\n",
       "    </tr>\n",
       "    <tr>\n",
       "      <th>2006</th>\n",
       "      <td>4.360902</td>\n",
       "      <td>532</td>\n",
       "    </tr>\n",
       "    <tr>\n",
       "      <th>2007</th>\n",
       "      <td>4.256887</td>\n",
       "      <td>1561</td>\n",
       "    </tr>\n",
       "    <tr>\n",
       "      <th>2008</th>\n",
       "      <td>4.159780</td>\n",
       "      <td>2904</td>\n",
       "    </tr>\n",
       "    <tr>\n",
       "      <th>2009</th>\n",
       "      <td>4.197502</td>\n",
       "      <td>4324</td>\n",
       "    </tr>\n",
       "    <tr>\n",
       "      <th>2010</th>\n",
       "      <td>4.225112</td>\n",
       "      <td>6499</td>\n",
       "    </tr>\n",
       "    <tr>\n",
       "      <th>2011</th>\n",
       "      <td>4.212743</td>\n",
       "      <td>7314</td>\n",
       "    </tr>\n",
       "    <tr>\n",
       "      <th>2012</th>\n",
       "      <td>4.174741</td>\n",
       "      <td>4830</td>\n",
       "    </tr>\n",
       "  </tbody>\n",
       "</table>\n",
       "</div>"
      ],
      "text/plain": [
       "        rating      \n",
       "          mean count\n",
       "year                \n",
       "2004  5.000000     4\n",
       "2005  4.580000   100\n",
       "2006  4.360902   532\n",
       "2007  4.256887  1561\n",
       "2008  4.159780  2904\n",
       "2009  4.197502  4324\n",
       "2010  4.225112  6499\n",
       "2011  4.212743  7314\n",
       "2012  4.174741  4830"
      ]
     },
     "execution_count": 18,
     "metadata": {},
     "output_type": "execute_result"
    }
   ],
   "source": [
    "train_data.groupby(['year']).agg({'rating': ['mean', 'count']})"
   ]
  },
  {
   "cell_type": "markdown",
   "metadata": {},
   "source": [
    "Do critics get harsher over time? or perhaps do movies get worse??? or maybe its just due to the small sample size in years 2004 and 2005."
   ]
  },
  {
   "cell_type": "markdown",
   "metadata": {},
   "source": [
    "# Preprocessing\n",
    "consider in countvectoriser: not using stopwords param, adding lemmatizer param"
   ]
  },
  {
   "cell_type": "code",
   "execution_count": 19,
   "metadata": {},
   "outputs": [],
   "source": [
    "# # Here, choose which predefined and given vector to use to represent the text data.\n",
    "# # Text here is already processed\n",
    "\n",
    "# d2vtrain = [d2v_50_train, d2v_100_train, d2v_200_train]\n",
    "# d2v_50_train.name = \"d2v_50\"\n",
    "# d2v_100_train.name = \"d2v_100\"\n",
    "# d2v_200_train.name = \"d2v_200\"\n",
    "\n",
    "# # Function to split a doc2Vec vector into training and testing\n",
    "# def splitDoc2Vec(doc, randomstate = 8579):\n",
    "#     # For each of the doc2vec vectors, concat with meta features\n",
    "#     train = doc\n",
    "#     train = pd.concat([train.reset_index(), train_meta.reset_index()], axis = 1)\n",
    "    \n",
    "#     # Above concat method causes duplicating index column\n",
    "#     train = train.loc[:,~train.columns.duplicated()]\n",
    "#     train = train.drop(columns = ['index'])\n",
    "    \n",
    "#     # Split into training and validation sets\n",
    "#     X_train, X_test, Y_train, Y_test = train_test_split(train[train.columns[:-1]],\n",
    "#                                                         train[\"rating\"], test_size=0.20, random_state=randomstate)\n",
    "#     return X_train, X_test, Y_train, np.array(Y_test)\n",
    "\n",
    "# # Function to split the given sparse matrix into training and testing\n",
    "# def splitSparse(randomstate = 8579):\n",
    "#     X_train, X_vali, Y_train, Y_vali = train_test_split(sparse_matrix_train, \n",
    "#                                                             train_data[\"rating\"], test_size=0.20, random_state=randomstate)\n",
    "#     return X_train, X_vali, Y_train, np.array(Y_vali)\n",
    "\n",
    "# # Function to split the training data into train and test, but first vectorising the reviews\n",
    "# def splitVectorised(ngram_range = (1,1), randomstate = 8579):\n",
    "#     # Split the reviews and ratings\n",
    "#     X_train, X_vali, Y_train, y_vali = train_test_split(train_data[\"review\"], train_data[\"rating\"], test_size=0.20, random_state=randomstate)\n",
    "#     X_train_txt, y_train = np.array(X_train), np.array(X_train)\n",
    "#     X_test_txt, y_test = np.array(X_vali), np.array(y_vali)\n",
    "        \n",
    "#     # vectorise the reviews\n",
    "#     vectoriser = CountVectorizer(ngram_range=ngram_range) #optional stop_words = 'english', tokenizer=LemmaTokenizer()\n",
    "#     vectoriser.fit(X_train_txt)\n",
    "#     X_train = vectoriser.transform(X_train_txt)\n",
    "#     X_test = vectoriser.transform(X_test_txt)\n",
    "    \n",
    "#     # Need to return vectoriser fit external test set\n",
    "#     return X_train, X_test, Y_train, y_test, vectoriser"
   ]
  },
  {
   "cell_type": "markdown",
   "metadata": {},
   "source": [
    "# Run classifiers using a single train test split to get some crude results. Cross validation comes later"
   ]
  },
  {
   "cell_type": "code",
   "execution_count": 20,
   "metadata": {},
   "outputs": [],
   "source": [
    "# # Crude accuracy score and confusion matrix of predictions with % correct. Matrix is \"Predicted label x for an instance\n",
    "# # with Class label y\"\n",
    "\n",
    "# def evaluate(truthlist, predictions):\n",
    "#     # First calculate a crude accuracy score\n",
    "#     correct = 0;\n",
    "#     wrong = 0;\n",
    "#     for i in range(0,len(truthlist)):\n",
    "#         if(truthlist[i] == predictions[i]):\n",
    "#             correct += 1\n",
    "#         else:\n",
    "#             wrong += 1;\n",
    "#     print(\"The accuracy of the predictions is: {:.5f}\\n\".format(correct/(correct + wrong)))\n",
    "        \n",
    "#     # Now construct a confusion matrix of each attribute\n",
    "#     truthSeries = pd.Series(truthlist, name = \"Truths\")\n",
    "#     predictionSeries = pd.Series(predictions, name = \"Predictions\")\n",
    "    \n",
    "#     # Now normalise the confusion matrix so its a percentage of classification performance\n",
    "#     confusionDf = pd.crosstab(truthSeries, predictionSeries, rownames=[\"Truths\"], colnames=[\"Predicted\"], margins=False)\n",
    "#     confusionDfNormalised = confusionDf / confusionDf.sum(axis=0)\n",
    "#     print(\"Confusion Matrix of Correctly Labeled Classes %'s\\n\")\n",
    "#     print(confusionDfNormalised)\n",
    "#     print(\"\\n\\n\")\n",
    "    \n",
    "#     return"
   ]
  },
  {
   "cell_type": "markdown",
   "metadata": {},
   "source": [
    "# Lemmatizer if wanted in countvectoriser()"
   ]
  },
  {
   "cell_type": "code",
   "execution_count": 21,
   "metadata": {},
   "outputs": [
    {
     "name": "stderr",
     "output_type": "stream",
     "text": [
      "[nltk_data] Downloading package punkt to\n",
      "[nltk_data]     C:\\Users\\User\\AppData\\Roaming\\nltk_data...\n",
      "[nltk_data]   Package punkt is already up-to-date!\n"
     ]
    }
   ],
   "source": [
    "from nltk import word_tokenize          \n",
    "from nltk.stem import WordNetLemmatizer \n",
    "import nltk\n",
    "nltk.download('punkt')\n",
    "class LemmaTokenizer(object):\n",
    "    def __init__(self):\n",
    "        self.wnl = WordNetLemmatizer()\n",
    "    def __call__(self, articles):\n",
    "        return [self.wnl.lemmatize(t) for t in word_tokenize(articles)]"
   ]
  },
  {
   "cell_type": "code",
   "execution_count": null,
   "metadata": {},
   "outputs": [],
   "source": []
  },
  {
   "cell_type": "code",
   "execution_count": null,
   "metadata": {},
   "outputs": [],
   "source": []
  },
  {
   "cell_type": "code",
   "execution_count": 22,
   "metadata": {},
   "outputs": [
    {
     "data": {
      "text/html": [
       "<div>\n",
       "<style scoped>\n",
       "    .dataframe tbody tr th:only-of-type {\n",
       "        vertical-align: middle;\n",
       "    }\n",
       "\n",
       "    .dataframe tbody tr th {\n",
       "        vertical-align: top;\n",
       "    }\n",
       "\n",
       "    .dataframe thead th {\n",
       "        text-align: right;\n",
       "    }\n",
       "</style>\n",
       "<table border=\"1\" class=\"dataframe\">\n",
       "  <thead>\n",
       "    <tr style=\"text-align: right;\">\n",
       "      <th></th>\n",
       "      <th>review</th>\n",
       "      <th>date</th>\n",
       "      <th>review_id</th>\n",
       "      <th>reviewer_id</th>\n",
       "      <th>business_id</th>\n",
       "      <th>vote_funny</th>\n",
       "      <th>vote_cool</th>\n",
       "      <th>vote_useful</th>\n",
       "      <th>rating</th>\n",
       "      <th>total_votes</th>\n",
       "      <th>percentage_vote_funny</th>\n",
       "      <th>percentage_vote_cool</th>\n",
       "      <th>percentage_vote_useful</th>\n",
       "      <th>year</th>\n",
       "    </tr>\n",
       "  </thead>\n",
       "  <tbody>\n",
       "    <tr>\n",
       "      <th>0</th>\n",
       "      <td>dear longman &amp; eagle.......you've left me no c...</td>\n",
       "      <td>2012-03-15</td>\n",
       "      <td>-s77HISu8DVQ8F0HxmWW6A</td>\n",
       "      <td>mthr7h15a_z9m9jRI6mG6Q</td>\n",
       "      <td>m5_GCJP2W4zEJnyVgxa3eA</td>\n",
       "      <td>0</td>\n",
       "      <td>1</td>\n",
       "      <td>3</td>\n",
       "      <td>1</td>\n",
       "      <td>4</td>\n",
       "      <td>0.00000</td>\n",
       "      <td>0.250000</td>\n",
       "      <td>0.750000</td>\n",
       "      <td>2012</td>\n",
       "    </tr>\n",
       "    <tr>\n",
       "      <th>1</th>\n",
       "      <td>Delish. The hubby and I wanted to do brunch on...</td>\n",
       "      <td>2010-06-21</td>\n",
       "      <td>A2aCzGCgg6gAbatHiCrPfA</td>\n",
       "      <td>rhM01fl3iU0xHr3TIpCMhQ</td>\n",
       "      <td>m5_GCJP2W4zEJnyVgxa3eA</td>\n",
       "      <td>0</td>\n",
       "      <td>0</td>\n",
       "      <td>0</td>\n",
       "      <td>5</td>\n",
       "      <td>0</td>\n",
       "      <td>0.00000</td>\n",
       "      <td>0.000000</td>\n",
       "      <td>0.000000</td>\n",
       "      <td>2010</td>\n",
       "    </tr>\n",
       "    <tr>\n",
       "      <th>2</th>\n",
       "      <td>yep, I've giving Yolk 5 stars. It's just reall...</td>\n",
       "      <td>2011-07-29</td>\n",
       "      <td>DK2pd</td>\n",
       "      <td>SNHKDgmGiLn5chUlhdLCkg</td>\n",
       "      <td>CwPi6NVuJIZZx4IBcTekFQ</td>\n",
       "      <td>1</td>\n",
       "      <td>0</td>\n",
       "      <td>1</td>\n",
       "      <td>5</td>\n",
       "      <td>2</td>\n",
       "      <td>0.50000</td>\n",
       "      <td>0.000000</td>\n",
       "      <td>0.500000</td>\n",
       "      <td>2011</td>\n",
       "    </tr>\n",
       "    <tr>\n",
       "      <th>3</th>\n",
       "      <td>Meat, meat, meat. It's meat-tastic. So much me...</td>\n",
       "      <td>2006-03-10</td>\n",
       "      <td>b3BkUiWJEKNQko</td>\n",
       "      <td>HXjk1RVfLMPeZxitnk1Auw</td>\n",
       "      <td>43rd1LKcZRIunySzbMsyLQ</td>\n",
       "      <td>17</td>\n",
       "      <td>3</td>\n",
       "      <td>3</td>\n",
       "      <td>3</td>\n",
       "      <td>23</td>\n",
       "      <td>0.73913</td>\n",
       "      <td>0.130435</td>\n",
       "      <td>0.130435</td>\n",
       "      <td>2006</td>\n",
       "    </tr>\n",
       "    <tr>\n",
       "      <th>4</th>\n",
       "      <td>I caught up with the law school girls on a Sat...</td>\n",
       "      <td>2012-08-28</td>\n",
       "      <td>RabHhte</td>\n",
       "      <td>W0ny0BqO0OJ4K4aVnSIlBw</td>\n",
       "      <td>CwPi6NVuJIZZx4IBcTekFQ</td>\n",
       "      <td>0</td>\n",
       "      <td>0</td>\n",
       "      <td>0</td>\n",
       "      <td>3</td>\n",
       "      <td>0</td>\n",
       "      <td>0.00000</td>\n",
       "      <td>0.000000</td>\n",
       "      <td>0.000000</td>\n",
       "      <td>2012</td>\n",
       "    </tr>\n",
       "  </tbody>\n",
       "</table>\n",
       "</div>"
      ],
      "text/plain": [
       "                                              review       date  \\\n",
       "0  dear longman & eagle.......you've left me no c... 2012-03-15   \n",
       "1  Delish. The hubby and I wanted to do brunch on... 2010-06-21   \n",
       "2  yep, I've giving Yolk 5 stars. It's just reall... 2011-07-29   \n",
       "3  Meat, meat, meat. It's meat-tastic. So much me... 2006-03-10   \n",
       "4  I caught up with the law school girls on a Sat... 2012-08-28   \n",
       "\n",
       "                review_id             reviewer_id             business_id  \\\n",
       "0  -s77HISu8DVQ8F0HxmWW6A  mthr7h15a_z9m9jRI6mG6Q  m5_GCJP2W4zEJnyVgxa3eA   \n",
       "1  A2aCzGCgg6gAbatHiCrPfA  rhM01fl3iU0xHr3TIpCMhQ  m5_GCJP2W4zEJnyVgxa3eA   \n",
       "2                   DK2pd  SNHKDgmGiLn5chUlhdLCkg  CwPi6NVuJIZZx4IBcTekFQ   \n",
       "3          b3BkUiWJEKNQko  HXjk1RVfLMPeZxitnk1Auw  43rd1LKcZRIunySzbMsyLQ   \n",
       "4                 RabHhte  W0ny0BqO0OJ4K4aVnSIlBw  CwPi6NVuJIZZx4IBcTekFQ   \n",
       "\n",
       "   vote_funny  vote_cool  vote_useful  rating  total_votes  \\\n",
       "0           0          1            3       1            4   \n",
       "1           0          0            0       5            0   \n",
       "2           1          0            1       5            2   \n",
       "3          17          3            3       3           23   \n",
       "4           0          0            0       3            0   \n",
       "\n",
       "   percentage_vote_funny  percentage_vote_cool  percentage_vote_useful  year  \n",
       "0                0.00000              0.250000                0.750000  2012  \n",
       "1                0.00000              0.000000                0.000000  2010  \n",
       "2                0.50000              0.000000                0.500000  2011  \n",
       "3                0.73913              0.130435                0.130435  2006  \n",
       "4                0.00000              0.000000                0.000000  2012  "
      ]
     },
     "execution_count": 22,
     "metadata": {},
     "output_type": "execute_result"
    }
   ],
   "source": [
    "train_data.head()"
   ]
  },
  {
   "cell_type": "code",
   "execution_count": 23,
   "metadata": {},
   "outputs": [],
   "source": [
    "X = train_data.review\n",
    "y = train_data.rating"
   ]
  },
  {
   "cell_type": "code",
   "execution_count": 24,
   "metadata": {},
   "outputs": [],
   "source": [
    "vectorizer = CountVectorizer(stop_words = 'english')\n",
    "vectorizer.fit(X)\n",
    "X = vectorizer.transform(X)"
   ]
  },
  {
   "cell_type": "code",
   "execution_count": 25,
   "metadata": {},
   "outputs": [],
   "source": [
    "X_train, X_test, y_train, y_test = train_test_split(X, y, train_size = 0.8, random_state = 0)"
   ]
  },
  {
   "cell_type": "markdown",
   "metadata": {},
   "source": [
    "Lets start by training individual classifiers..."
   ]
  },
  {
   "cell_type": "markdown",
   "metadata": {},
   "source": [
    "# Multinomial Naive Bayes\n",
    "MNB runs ~84% with ngrams (1,1). ~72% with ngrams(1,2), ~69% with ngrams (1,3)"
   ]
  },
  {
   "cell_type": "code",
   "execution_count": 26,
   "metadata": {},
   "outputs": [],
   "source": [
    "from sklearn.model_selection import GridSearchCV"
   ]
  },
  {
   "cell_type": "code",
   "execution_count": 27,
   "metadata": {},
   "outputs": [],
   "source": [
    "from sklearn.naive_bayes import MultinomialNB"
   ]
  },
  {
   "cell_type": "code",
   "execution_count": 28,
   "metadata": {},
   "outputs": [
    {
     "data": {
      "text/plain": [
       "GridSearchCV(cv=None, error_score=nan,\n",
       "             estimator=MultinomialNB(alpha=1.0, class_prior=None,\n",
       "                                     fit_prior=True),\n",
       "             iid='deprecated', n_jobs=None, param_grid={'alpha': [0.1, 1]},\n",
       "             pre_dispatch='2*n_jobs', refit=True, return_train_score=False,\n",
       "             scoring=None, verbose=0)"
      ]
     },
     "execution_count": 28,
     "metadata": {},
     "output_type": "execute_result"
    }
   ],
   "source": [
    "params = {'alpha': [0.1, 1]} \n",
    "mnb = MultinomialNB()\n",
    "mnb_grid = GridSearchCV(mnb, params)\n",
    "mnb_grid.fit(X, y)"
   ]
  },
  {
   "cell_type": "code",
   "execution_count": 29,
   "metadata": {},
   "outputs": [
    {
     "data": {
      "text/html": [
       "<div>\n",
       "<style scoped>\n",
       "    .dataframe tbody tr th:only-of-type {\n",
       "        vertical-align: middle;\n",
       "    }\n",
       "\n",
       "    .dataframe tbody tr th {\n",
       "        vertical-align: top;\n",
       "    }\n",
       "\n",
       "    .dataframe thead th {\n",
       "        text-align: right;\n",
       "    }\n",
       "</style>\n",
       "<table border=\"1\" class=\"dataframe\">\n",
       "  <thead>\n",
       "    <tr style=\"text-align: right;\">\n",
       "      <th></th>\n",
       "      <th>mean_fit_time</th>\n",
       "      <th>std_fit_time</th>\n",
       "      <th>mean_score_time</th>\n",
       "      <th>std_score_time</th>\n",
       "      <th>param_alpha</th>\n",
       "      <th>params</th>\n",
       "      <th>split0_test_score</th>\n",
       "      <th>split1_test_score</th>\n",
       "      <th>split2_test_score</th>\n",
       "      <th>split3_test_score</th>\n",
       "      <th>split4_test_score</th>\n",
       "      <th>mean_test_score</th>\n",
       "      <th>std_test_score</th>\n",
       "      <th>rank_test_score</th>\n",
       "    </tr>\n",
       "  </thead>\n",
       "  <tbody>\n",
       "    <tr>\n",
       "      <th>0</th>\n",
       "      <td>0.0146</td>\n",
       "      <td>4.899014e-04</td>\n",
       "      <td>0.002198</td>\n",
       "      <td>0.000396</td>\n",
       "      <td>0.1</td>\n",
       "      <td>{'alpha': 0.1}</td>\n",
       "      <td>0.822943</td>\n",
       "      <td>0.819202</td>\n",
       "      <td>0.824190</td>\n",
       "      <td>0.821308</td>\n",
       "      <td>0.823980</td>\n",
       "      <td>0.822324</td>\n",
       "      <td>0.001865</td>\n",
       "      <td>2</td>\n",
       "    </tr>\n",
       "    <tr>\n",
       "      <th>1</th>\n",
       "      <td>0.0150</td>\n",
       "      <td>2.780415e-07</td>\n",
       "      <td>0.002400</td>\n",
       "      <td>0.000490</td>\n",
       "      <td>1</td>\n",
       "      <td>{'alpha': 1}</td>\n",
       "      <td>0.832918</td>\n",
       "      <td>0.841646</td>\n",
       "      <td>0.842358</td>\n",
       "      <td>0.836273</td>\n",
       "      <td>0.834135</td>\n",
       "      <td>0.837466</td>\n",
       "      <td>0.003863</td>\n",
       "      <td>1</td>\n",
       "    </tr>\n",
       "  </tbody>\n",
       "</table>\n",
       "</div>"
      ],
      "text/plain": [
       "   mean_fit_time  std_fit_time  mean_score_time  std_score_time param_alpha  \\\n",
       "0         0.0146  4.899014e-04         0.002198        0.000396         0.1   \n",
       "1         0.0150  2.780415e-07         0.002400        0.000490           1   \n",
       "\n",
       "           params  split0_test_score  split1_test_score  split2_test_score  \\\n",
       "0  {'alpha': 0.1}           0.822943           0.819202           0.824190   \n",
       "1    {'alpha': 1}           0.832918           0.841646           0.842358   \n",
       "\n",
       "   split3_test_score  split4_test_score  mean_test_score  std_test_score  \\\n",
       "0           0.821308           0.823980         0.822324        0.001865   \n",
       "1           0.836273           0.834135         0.837466        0.003863   \n",
       "\n",
       "   rank_test_score  \n",
       "0                2  \n",
       "1                1  "
      ]
     },
     "execution_count": 29,
     "metadata": {},
     "output_type": "execute_result"
    }
   ],
   "source": [
    "cv_results = pd.DataFrame(mnb_grid.cv_results_)\n",
    "cv_results"
   ]
  },
  {
   "cell_type": "code",
   "execution_count": 30,
   "metadata": {},
   "outputs": [
    {
     "data": {
      "text/plain": [
       "1    {'alpha': 1}\n",
       "Name: params, dtype: object"
      ]
     },
     "execution_count": 30,
     "metadata": {},
     "output_type": "execute_result"
    }
   ],
   "source": [
    "cv_results.loc[cv_results.rank_test_score == 1].params"
   ]
  },
  {
   "cell_type": "markdown",
   "metadata": {},
   "source": [
    "Lets train the mnb classifier using all the data and these hyperparameters..."
   ]
  },
  {
   "cell_type": "code",
   "execution_count": 31,
   "metadata": {},
   "outputs": [
    {
     "data": {
      "text/plain": [
       "MultinomialNB(alpha=1, class_prior=None, fit_prior=True)"
      ]
     },
     "execution_count": 31,
     "metadata": {},
     "output_type": "execute_result"
    }
   ],
   "source": [
    "mnb = MultinomialNB(alpha = 1)\n",
    "mnb.fit(X_train, y_train)"
   ]
  },
  {
   "cell_type": "code",
   "execution_count": 32,
   "metadata": {},
   "outputs": [
    {
     "name": "stdout",
     "output_type": "stream",
     "text": [
      "multinominal naive bayes accuracy: 0.8404\n"
     ]
    },
    {
     "data": {
      "text/plain": [
       "<sklearn.metrics._plot.confusion_matrix.ConfusionMatrixDisplay at 0x236ab5908c8>"
      ]
     },
     "execution_count": 32,
     "metadata": {},
     "output_type": "execute_result"
    },
    {
     "data": {
      "image/png": "[encoded data removed]",
      "text/plain": [
       "<Figure size 432x288 with 2 Axes>"
      ]
     },
     "metadata": {
      "needs_background": "light"
     },
     "output_type": "display_data"
    }
   ],
   "source": [
    "predictions = mnb.predict(X_test)\n",
    "score = mnb.score(X_test, y_test)\n",
    "print(\"multinominal naive bayes accuracy: {:.4f}\".format(score))\n",
    "plot_confusion_matrix(mnb, X_test, y_test, normalize = \"true\")"
   ]
  },
  {
   "cell_type": "markdown",
   "metadata": {},
   "source": [
    "# Logistic Regression"
   ]
  },
  {
   "cell_type": "code",
   "execution_count": 33,
   "metadata": {},
   "outputs": [],
   "source": [
    "from sklearn.linear_model import LogisticRegression"
   ]
  },
  {
   "cell_type": "code",
   "execution_count": 34,
   "metadata": {},
   "outputs": [
    {
     "data": {
      "text/plain": [
       "GridSearchCV(cv=None, error_score=nan,\n",
       "             estimator=LogisticRegression(C=1.0, class_weight=None, dual=False,\n",
       "                                          fit_intercept=True,\n",
       "                                          intercept_scaling=1, l1_ratio=None,\n",
       "                                          max_iter=100, multi_class='auto',\n",
       "                                          n_jobs=None, penalty='l2',\n",
       "                                          random_state=None, solver='lbfgs',\n",
       "                                          tol=0.0001, verbose=0,\n",
       "                                          warm_start=False),\n",
       "             iid='deprecated', n_jobs=None,\n",
       "             param_grid={'C': [0.01, 0.1, 1, 10], 'max_iter': [1000000],\n",
       "                         'penalty': ['l2']},\n",
       "             pre_dispatch='2*n_jobs', refit=True, return_train_score=False,\n",
       "             scoring=None, verbose=0)"
      ]
     },
     "execution_count": 34,
     "metadata": {},
     "output_type": "execute_result"
    }
   ],
   "source": [
    "params = {\n",
    "    'penalty': ['l2'],\n",
    "    'C': [0.01, 0.1 , 1, 10],\n",
    "    'max_iter': [1000000]\n",
    "} \n",
    "logreg = LogisticRegression()\n",
    "logreg_grid = GridSearchCV(logreg, params)\n",
    "logreg_grid.fit(X, y)"
   ]
  },
  {
   "cell_type": "code",
   "execution_count": 35,
   "metadata": {},
   "outputs": [
    {
     "data": {
      "text/html": [
       "<div>\n",
       "<style scoped>\n",
       "    .dataframe tbody tr th:only-of-type {\n",
       "        vertical-align: middle;\n",
       "    }\n",
       "\n",
       "    .dataframe tbody tr th {\n",
       "        vertical-align: top;\n",
       "    }\n",
       "\n",
       "    .dataframe thead th {\n",
       "        text-align: right;\n",
       "    }\n",
       "</style>\n",
       "<table border=\"1\" class=\"dataframe\">\n",
       "  <thead>\n",
       "    <tr style=\"text-align: right;\">\n",
       "      <th></th>\n",
       "      <th>mean_fit_time</th>\n",
       "      <th>std_fit_time</th>\n",
       "      <th>mean_score_time</th>\n",
       "      <th>std_score_time</th>\n",
       "      <th>param_C</th>\n",
       "      <th>param_max_iter</th>\n",
       "      <th>param_penalty</th>\n",
       "      <th>params</th>\n",
       "      <th>split0_test_score</th>\n",
       "      <th>split1_test_score</th>\n",
       "      <th>split2_test_score</th>\n",
       "      <th>split3_test_score</th>\n",
       "      <th>split4_test_score</th>\n",
       "      <th>mean_test_score</th>\n",
       "      <th>std_test_score</th>\n",
       "      <th>rank_test_score</th>\n",
       "    </tr>\n",
       "  </thead>\n",
       "  <tbody>\n",
       "    <tr>\n",
       "      <th>0</th>\n",
       "      <td>1.329106</td>\n",
       "      <td>0.032185</td>\n",
       "      <td>0.002800</td>\n",
       "      <td>0.000400</td>\n",
       "      <td>0.01</td>\n",
       "      <td>1000000</td>\n",
       "      <td>l2</td>\n",
       "      <td>{'C': 0.01, 'max_iter': 1000000, 'penalty': 'l2'}</td>\n",
       "      <td>0.826327</td>\n",
       "      <td>0.834165</td>\n",
       "      <td>0.830602</td>\n",
       "      <td>0.826831</td>\n",
       "      <td>0.838055</td>\n",
       "      <td>0.831196</td>\n",
       "      <td>0.004449</td>\n",
       "      <td>3</td>\n",
       "    </tr>\n",
       "    <tr>\n",
       "      <th>1</th>\n",
       "      <td>2.990651</td>\n",
       "      <td>0.135104</td>\n",
       "      <td>0.002803</td>\n",
       "      <td>0.000401</td>\n",
       "      <td>0.1</td>\n",
       "      <td>1000000</td>\n",
       "      <td>l2</td>\n",
       "      <td>{'C': 0.1, 'max_iter': 1000000, 'penalty': 'l2'}</td>\n",
       "      <td>0.840933</td>\n",
       "      <td>0.846633</td>\n",
       "      <td>0.846455</td>\n",
       "      <td>0.848210</td>\n",
       "      <td>0.851595</td>\n",
       "      <td>0.846765</td>\n",
       "      <td>0.003451</td>\n",
       "      <td>1</td>\n",
       "    </tr>\n",
       "    <tr>\n",
       "      <th>2</th>\n",
       "      <td>6.517355</td>\n",
       "      <td>0.226727</td>\n",
       "      <td>0.002795</td>\n",
       "      <td>0.000398</td>\n",
       "      <td>1</td>\n",
       "      <td>1000000</td>\n",
       "      <td>l2</td>\n",
       "      <td>{'C': 1, 'max_iter': 1000000, 'penalty': 'l2'}</td>\n",
       "      <td>0.830602</td>\n",
       "      <td>0.840221</td>\n",
       "      <td>0.836124</td>\n",
       "      <td>0.837342</td>\n",
       "      <td>0.844468</td>\n",
       "      <td>0.837751</td>\n",
       "      <td>0.004586</td>\n",
       "      <td>2</td>\n",
       "    </tr>\n",
       "    <tr>\n",
       "      <th>3</th>\n",
       "      <td>10.587533</td>\n",
       "      <td>0.344698</td>\n",
       "      <td>0.002998</td>\n",
       "      <td>0.000005</td>\n",
       "      <td>10</td>\n",
       "      <td>1000000</td>\n",
       "      <td>l2</td>\n",
       "      <td>{'C': 10, 'max_iter': 1000000, 'penalty': 'l2'}</td>\n",
       "      <td>0.816352</td>\n",
       "      <td>0.821696</td>\n",
       "      <td>0.818133</td>\n",
       "      <td>0.822020</td>\n",
       "      <td>0.828078</td>\n",
       "      <td>0.821256</td>\n",
       "      <td>0.004028</td>\n",
       "      <td>4</td>\n",
       "    </tr>\n",
       "  </tbody>\n",
       "</table>\n",
       "</div>"
      ],
      "text/plain": [
       "   mean_fit_time  std_fit_time  mean_score_time  std_score_time param_C  \\\n",
       "0       1.329106      0.032185         0.002800        0.000400    0.01   \n",
       "1       2.990651      0.135104         0.002803        0.000401     0.1   \n",
       "2       6.517355      0.226727         0.002795        0.000398       1   \n",
       "3      10.587533      0.344698         0.002998        0.000005      10   \n",
       "\n",
       "  param_max_iter param_penalty  \\\n",
       "0        1000000            l2   \n",
       "1        1000000            l2   \n",
       "2        1000000            l2   \n",
       "3        1000000            l2   \n",
       "\n",
       "                                              params  split0_test_score  \\\n",
       "0  {'C': 0.01, 'max_iter': 1000000, 'penalty': 'l2'}           0.826327   \n",
       "1   {'C': 0.1, 'max_iter': 1000000, 'penalty': 'l2'}           0.840933   \n",
       "2     {'C': 1, 'max_iter': 1000000, 'penalty': 'l2'}           0.830602   \n",
       "3    {'C': 10, 'max_iter': 1000000, 'penalty': 'l2'}           0.816352   \n",
       "\n",
       "   split1_test_score  split2_test_score  split3_test_score  split4_test_score  \\\n",
       "0           0.834165           0.830602           0.826831           0.838055   \n",
       "1           0.846633           0.846455           0.848210           0.851595   \n",
       "2           0.840221           0.836124           0.837342           0.844468   \n",
       "3           0.821696           0.818133           0.822020           0.828078   \n",
       "\n",
       "   mean_test_score  std_test_score  rank_test_score  \n",
       "0         0.831196        0.004449                3  \n",
       "1         0.846765        0.003451                1  \n",
       "2         0.837751        0.004586                2  \n",
       "3         0.821256        0.004028                4  "
      ]
     },
     "execution_count": 35,
     "metadata": {},
     "output_type": "execute_result"
    }
   ],
   "source": [
    "cv_results = pd.DataFrame(logreg_grid.cv_results_)\n",
    "cv_results"
   ]
  },
  {
   "cell_type": "code",
   "execution_count": 36,
   "metadata": {},
   "outputs": [
    {
     "data": {
      "text/plain": [
       "1    {'C': 0.1, 'max_iter': 1000000, 'penalty': 'l2'}\n",
       "Name: params, dtype: object"
      ]
     },
     "execution_count": 36,
     "metadata": {},
     "output_type": "execute_result"
    }
   ],
   "source": [
    "cv_results.loc[cv_results.rank_test_score == 1].params"
   ]
  },
  {
   "cell_type": "markdown",
   "metadata": {},
   "source": [
    "Lets train the mnb classifier using all the data and these hyperparameters..."
   ]
  },
  {
   "cell_type": "code",
   "execution_count": 37,
   "metadata": {},
   "outputs": [
    {
     "data": {
      "text/plain": [
       "LogisticRegression(C=0.1, class_weight=None, dual=False, fit_intercept=True,\n",
       "                   intercept_scaling=1, l1_ratio=None, max_iter=1000000,\n",
       "                   multi_class='auto', n_jobs=None, penalty='l2',\n",
       "                   random_state=None, solver='lbfgs', tol=0.0001, verbose=0,\n",
       "                   warm_start=False)"
      ]
     },
     "execution_count": 37,
     "metadata": {},
     "output_type": "execute_result"
    }
   ],
   "source": [
    "logreg = LogisticRegression(C = 0.1, max_iter = 1000000, penalty = 'l2')\n",
    "logreg.fit(X_train, y_train)"
   ]
  },
  {
   "cell_type": "code",
   "execution_count": 38,
   "metadata": {},
   "outputs": [
    {
     "name": "stdout",
     "output_type": "stream",
     "text": [
      "multinominal naive bayes accuracy: 0.8463\n"
     ]
    },
    {
     "data": {
      "text/plain": [
       "<sklearn.metrics._plot.confusion_matrix.ConfusionMatrixDisplay at 0x236b1864188>"
      ]
     },
     "execution_count": 38,
     "metadata": {},
     "output_type": "execute_result"
    },
    {
     "data": {
      "image/png": "[encoded data removed]",
      "text/plain": [
       "<Figure size 432x288 with 2 Axes>"
      ]
     },
     "metadata": {
      "needs_background": "light"
     },
     "output_type": "display_data"
    }
   ],
   "source": [
    "predictions = logreg.predict(X_test)\n",
    "score = logreg.score(X_test, y_test)\n",
    "print(\"multinominal naive bayes accuracy: {:.4f}\".format(score))\n",
    "plot_confusion_matrix(logreg, X_test, y_test, normalize = \"true\")"
   ]
  },
  {
   "cell_type": "markdown",
   "metadata": {},
   "source": [
    "Since the class labels are imbalanced, lets try undersampling/oversampling the training data..."
   ]
  },
  {
   "cell_type": "code",
   "execution_count": 48,
   "metadata": {},
   "outputs": [],
   "source": [
    "from imblearn.under_sampling import RandomUnderSampler\n",
    "rus = RandomUnderSampler(random_state=0)\n",
    "X_resampled, y_resampled = rus.fit_resample(X_train, y_train)"
   ]
  },
  {
   "cell_type": "code",
   "execution_count": 49,
   "metadata": {},
   "outputs": [
    {
     "data": {
      "text/plain": [
       "LogisticRegression(C=0.1, class_weight=None, dual=False, fit_intercept=True,\n",
       "                   intercept_scaling=1, l1_ratio=None, max_iter=1000000,\n",
       "                   multi_class='auto', n_jobs=None, penalty='l2',\n",
       "                   random_state=None, solver='lbfgs', tol=0.0001, verbose=0,\n",
       "                   warm_start=False)"
      ]
     },
     "execution_count": 49,
     "metadata": {},
     "output_type": "execute_result"
    }
   ],
   "source": [
    "logreg = LogisticRegression(C = 0.1, max_iter = 1000000, penalty = 'l2')\n",
    "logreg.fit(X_resampled, y_resampled)"
   ]
  },
  {
   "cell_type": "code",
   "execution_count": 50,
   "metadata": {},
   "outputs": [
    {
     "name": "stdout",
     "output_type": "stream",
     "text": [
      "logistic regression accuracy: 0.7893\n"
     ]
    },
    {
     "data": {
      "text/plain": [
       "<sklearn.metrics._plot.confusion_matrix.ConfusionMatrixDisplay at 0x236be293548>"
      ]
     },
     "execution_count": 50,
     "metadata": {},
     "output_type": "execute_result"
    },
    {
     "data": {
      "image/png": "[encoded data removed]",
      "text/plain": [
       "<Figure size 432x288 with 2 Axes>"
      ]
     },
     "metadata": {
      "needs_background": "light"
     },
     "output_type": "display_data"
    }
   ],
   "source": [
    "predictions = logreg.predict(X_test)\n",
    "score = logreg.score(X_test, y_test)\n",
    "print(\"logistic regression accuracy: {:.4f}\".format(score))\n",
    "plot_confusion_matrix(logreg, X_test, y_test, normalize = \"true\")"
   ]
  },
  {
   "cell_type": "code",
   "execution_count": 46,
   "metadata": {},
   "outputs": [
    {
     "data": {
      "text/html": [
       "<div>\n",
       "<style scoped>\n",
       "    .dataframe tbody tr th:only-of-type {\n",
       "        vertical-align: middle;\n",
       "    }\n",
       "\n",
       "    .dataframe tbody tr th {\n",
       "        vertical-align: top;\n",
       "    }\n",
       "\n",
       "    .dataframe thead th {\n",
       "        text-align: right;\n",
       "    }\n",
       "</style>\n",
       "<table border=\"1\" class=\"dataframe\">\n",
       "  <thead>\n",
       "    <tr style=\"text-align: right;\">\n",
       "      <th></th>\n",
       "      <th>review</th>\n",
       "      <th>date</th>\n",
       "      <th>review_id</th>\n",
       "      <th>reviewer_id</th>\n",
       "      <th>business_id</th>\n",
       "      <th>vote_funny</th>\n",
       "      <th>vote_cool</th>\n",
       "      <th>vote_useful</th>\n",
       "      <th>rating</th>\n",
       "      <th>total_votes</th>\n",
       "      <th>percentage_vote_funny</th>\n",
       "      <th>percentage_vote_cool</th>\n",
       "      <th>percentage_vote_useful</th>\n",
       "      <th>year</th>\n",
       "    </tr>\n",
       "  </thead>\n",
       "  <tbody>\n",
       "    <tr>\n",
       "      <th>0</th>\n",
       "      <td>dear longman &amp; eagle.......you've left me no c...</td>\n",
       "      <td>2012-03-15</td>\n",
       "      <td>-s77HISu8DVQ8F0HxmWW6A</td>\n",
       "      <td>mthr7h15a_z9m9jRI6mG6Q</td>\n",
       "      <td>m5_GCJP2W4zEJnyVgxa3eA</td>\n",
       "      <td>0</td>\n",
       "      <td>1</td>\n",
       "      <td>3</td>\n",
       "      <td>1</td>\n",
       "      <td>4</td>\n",
       "      <td>0.00000</td>\n",
       "      <td>0.250000</td>\n",
       "      <td>0.750000</td>\n",
       "      <td>2012</td>\n",
       "    </tr>\n",
       "    <tr>\n",
       "      <th>1</th>\n",
       "      <td>Delish. The hubby and I wanted to do brunch on...</td>\n",
       "      <td>2010-06-21</td>\n",
       "      <td>A2aCzGCgg6gAbatHiCrPfA</td>\n",
       "      <td>rhM01fl3iU0xHr3TIpCMhQ</td>\n",
       "      <td>m5_GCJP2W4zEJnyVgxa3eA</td>\n",
       "      <td>0</td>\n",
       "      <td>0</td>\n",
       "      <td>0</td>\n",
       "      <td>5</td>\n",
       "      <td>0</td>\n",
       "      <td>0.00000</td>\n",
       "      <td>0.000000</td>\n",
       "      <td>0.000000</td>\n",
       "      <td>2010</td>\n",
       "    </tr>\n",
       "    <tr>\n",
       "      <th>2</th>\n",
       "      <td>yep, I've giving Yolk 5 stars. It's just reall...</td>\n",
       "      <td>2011-07-29</td>\n",
       "      <td>DK2pd</td>\n",
       "      <td>SNHKDgmGiLn5chUlhdLCkg</td>\n",
       "      <td>CwPi6NVuJIZZx4IBcTekFQ</td>\n",
       "      <td>1</td>\n",
       "      <td>0</td>\n",
       "      <td>1</td>\n",
       "      <td>5</td>\n",
       "      <td>2</td>\n",
       "      <td>0.50000</td>\n",
       "      <td>0.000000</td>\n",
       "      <td>0.500000</td>\n",
       "      <td>2011</td>\n",
       "    </tr>\n",
       "    <tr>\n",
       "      <th>3</th>\n",
       "      <td>Meat, meat, meat. It's meat-tastic. So much me...</td>\n",
       "      <td>2006-03-10</td>\n",
       "      <td>b3BkUiWJEKNQko</td>\n",
       "      <td>HXjk1RVfLMPeZxitnk1Auw</td>\n",
       "      <td>43rd1LKcZRIunySzbMsyLQ</td>\n",
       "      <td>17</td>\n",
       "      <td>3</td>\n",
       "      <td>3</td>\n",
       "      <td>3</td>\n",
       "      <td>23</td>\n",
       "      <td>0.73913</td>\n",
       "      <td>0.130435</td>\n",
       "      <td>0.130435</td>\n",
       "      <td>2006</td>\n",
       "    </tr>\n",
       "    <tr>\n",
       "      <th>4</th>\n",
       "      <td>I caught up with the law school girls on a Sat...</td>\n",
       "      <td>2012-08-28</td>\n",
       "      <td>RabHhte</td>\n",
       "      <td>W0ny0BqO0OJ4K4aVnSIlBw</td>\n",
       "      <td>CwPi6NVuJIZZx4IBcTekFQ</td>\n",
       "      <td>0</td>\n",
       "      <td>0</td>\n",
       "      <td>0</td>\n",
       "      <td>3</td>\n",
       "      <td>0</td>\n",
       "      <td>0.00000</td>\n",
       "      <td>0.000000</td>\n",
       "      <td>0.000000</td>\n",
       "      <td>2012</td>\n",
       "    </tr>\n",
       "    <tr>\n",
       "      <th>...</th>\n",
       "      <td>...</td>\n",
       "      <td>...</td>\n",
       "      <td>...</td>\n",
       "      <td>...</td>\n",
       "      <td>...</td>\n",
       "      <td>...</td>\n",
       "      <td>...</td>\n",
       "      <td>...</td>\n",
       "      <td>...</td>\n",
       "      <td>...</td>\n",
       "      <td>...</td>\n",
       "      <td>...</td>\n",
       "      <td>...</td>\n",
       "      <td>...</td>\n",
       "    </tr>\n",
       "    <tr>\n",
       "      <th>28063</th>\n",
       "      <td>This afternoon I went to Yolk with my college ...</td>\n",
       "      <td>2008-05-08</td>\n",
       "      <td>AoNuz5VBHjul-xWpp7Nbbg</td>\n",
       "      <td>JU96tV1CNyw5G03Yv79PRA</td>\n",
       "      <td>CwPi6NVuJIZZx4IBcTekFQ</td>\n",
       "      <td>0</td>\n",
       "      <td>0</td>\n",
       "      <td>0</td>\n",
       "      <td>1</td>\n",
       "      <td>0</td>\n",
       "      <td>0.00000</td>\n",
       "      <td>0.000000</td>\n",
       "      <td>0.000000</td>\n",
       "      <td>2008</td>\n",
       "    </tr>\n",
       "    <tr>\n",
       "      <th>28064</th>\n",
       "      <td>Place has lots of side dishes. But that's abou...</td>\n",
       "      <td>2012-08-12</td>\n",
       "      <td>F4b9FwPxyMRQO86eFiyYEA</td>\n",
       "      <td>IpVFQuWk4gEgQQ_XmzjeQQ</td>\n",
       "      <td>_n3OmwreEGPQmiHKklsD8w</td>\n",
       "      <td>0</td>\n",
       "      <td>0</td>\n",
       "      <td>0</td>\n",
       "      <td>1</td>\n",
       "      <td>0</td>\n",
       "      <td>0.00000</td>\n",
       "      <td>0.000000</td>\n",
       "      <td>0.000000</td>\n",
       "      <td>2012</td>\n",
       "    </tr>\n",
       "    <tr>\n",
       "      <th>28065</th>\n",
       "      <td>I am a huge fan of Brazillian steakhouses I've...</td>\n",
       "      <td>2010-03-11</td>\n",
       "      <td>D6Vel2u0lHi7QJK-jx</td>\n",
       "      <td>-vywj5I_Bh1FOzTe_sbQUw</td>\n",
       "      <td>43rd1LKcZRIunySzbMsyLQ</td>\n",
       "      <td>0</td>\n",
       "      <td>0</td>\n",
       "      <td>5</td>\n",
       "      <td>5</td>\n",
       "      <td>5</td>\n",
       "      <td>0.00000</td>\n",
       "      <td>0.000000</td>\n",
       "      <td>1.000000</td>\n",
       "      <td>2010</td>\n",
       "    </tr>\n",
       "    <tr>\n",
       "      <th>28066</th>\n",
       "      <td>Great Brunch.\\n</td>\n",
       "      <td>2011-03-09</td>\n",
       "      <td>JSZrJ1yvndgXSKazIBkAOg</td>\n",
       "      <td>sjR61dvvQODav54vBNk0cg</td>\n",
       "      <td>dKcO9OQ44RPRlkWe-vToFA</td>\n",
       "      <td>0</td>\n",
       "      <td>0</td>\n",
       "      <td>0</td>\n",
       "      <td>5</td>\n",
       "      <td>0</td>\n",
       "      <td>0.00000</td>\n",
       "      <td>0.000000</td>\n",
       "      <td>0.000000</td>\n",
       "      <td>2011</td>\n",
       "    </tr>\n",
       "    <tr>\n",
       "      <th>28067</th>\n",
       "      <td>I love The Chicago Diner. I first came here ab...</td>\n",
       "      <td>2010-10-10</td>\n",
       "      <td>zTSZdljMJlXWL-vC72dzkg</td>\n",
       "      <td>sI9qKo-i2fGPxNBfJEY-kw</td>\n",
       "      <td>o54U2VkQama8FI30qDkWvw</td>\n",
       "      <td>0</td>\n",
       "      <td>0</td>\n",
       "      <td>0</td>\n",
       "      <td>5</td>\n",
       "      <td>0</td>\n",
       "      <td>0.00000</td>\n",
       "      <td>0.000000</td>\n",
       "      <td>0.000000</td>\n",
       "      <td>2010</td>\n",
       "    </tr>\n",
       "  </tbody>\n",
       "</table>\n",
       "<p>28068 rows × 14 columns</p>\n",
       "</div>"
      ],
      "text/plain": [
       "                                                  review       date  \\\n",
       "0      dear longman & eagle.......you've left me no c... 2012-03-15   \n",
       "1      Delish. The hubby and I wanted to do brunch on... 2010-06-21   \n",
       "2      yep, I've giving Yolk 5 stars. It's just reall... 2011-07-29   \n",
       "3      Meat, meat, meat. It's meat-tastic. So much me... 2006-03-10   \n",
       "4      I caught up with the law school girls on a Sat... 2012-08-28   \n",
       "...                                                  ...        ...   \n",
       "28063  This afternoon I went to Yolk with my college ... 2008-05-08   \n",
       "28064  Place has lots of side dishes. But that's abou... 2012-08-12   \n",
       "28065  I am a huge fan of Brazillian steakhouses I've... 2010-03-11   \n",
       "28066                                    Great Brunch.\\n 2011-03-09   \n",
       "28067  I love The Chicago Diner. I first came here ab... 2010-10-10   \n",
       "\n",
       "                    review_id             reviewer_id             business_id  \\\n",
       "0      -s77HISu8DVQ8F0HxmWW6A  mthr7h15a_z9m9jRI6mG6Q  m5_GCJP2W4zEJnyVgxa3eA   \n",
       "1      A2aCzGCgg6gAbatHiCrPfA  rhM01fl3iU0xHr3TIpCMhQ  m5_GCJP2W4zEJnyVgxa3eA   \n",
       "2                       DK2pd  SNHKDgmGiLn5chUlhdLCkg  CwPi6NVuJIZZx4IBcTekFQ   \n",
       "3              b3BkUiWJEKNQko  HXjk1RVfLMPeZxitnk1Auw  43rd1LKcZRIunySzbMsyLQ   \n",
       "4                     RabHhte  W0ny0BqO0OJ4K4aVnSIlBw  CwPi6NVuJIZZx4IBcTekFQ   \n",
       "...                       ...                     ...                     ...   \n",
       "28063  AoNuz5VBHjul-xWpp7Nbbg  JU96tV1CNyw5G03Yv79PRA  CwPi6NVuJIZZx4IBcTekFQ   \n",
       "28064  F4b9FwPxyMRQO86eFiyYEA  IpVFQuWk4gEgQQ_XmzjeQQ  _n3OmwreEGPQmiHKklsD8w   \n",
       "28065      D6Vel2u0lHi7QJK-jx  -vywj5I_Bh1FOzTe_sbQUw  43rd1LKcZRIunySzbMsyLQ   \n",
       "28066  JSZrJ1yvndgXSKazIBkAOg  sjR61dvvQODav54vBNk0cg  dKcO9OQ44RPRlkWe-vToFA   \n",
       "28067  zTSZdljMJlXWL-vC72dzkg  sI9qKo-i2fGPxNBfJEY-kw  o54U2VkQama8FI30qDkWvw   \n",
       "\n",
       "       vote_funny  vote_cool  vote_useful  rating  total_votes  \\\n",
       "0               0          1            3       1            4   \n",
       "1               0          0            0       5            0   \n",
       "2               1          0            1       5            2   \n",
       "3              17          3            3       3           23   \n",
       "4               0          0            0       3            0   \n",
       "...           ...        ...          ...     ...          ...   \n",
       "28063           0          0            0       1            0   \n",
       "28064           0          0            0       1            0   \n",
       "28065           0          0            5       5            5   \n",
       "28066           0          0            0       5            0   \n",
       "28067           0          0            0       5            0   \n",
       "\n",
       "       percentage_vote_funny  percentage_vote_cool  percentage_vote_useful  \\\n",
       "0                    0.00000              0.250000                0.750000   \n",
       "1                    0.00000              0.000000                0.000000   \n",
       "2                    0.50000              0.000000                0.500000   \n",
       "3                    0.73913              0.130435                0.130435   \n",
       "4                    0.00000              0.000000                0.000000   \n",
       "...                      ...                   ...                     ...   \n",
       "28063                0.00000              0.000000                0.000000   \n",
       "28064                0.00000              0.000000                0.000000   \n",
       "28065                0.00000              0.000000                1.000000   \n",
       "28066                0.00000              0.000000                0.000000   \n",
       "28067                0.00000              0.000000                0.000000   \n",
       "\n",
       "       year  \n",
       "0      2012  \n",
       "1      2010  \n",
       "2      2011  \n",
       "3      2006  \n",
       "4      2012  \n",
       "...     ...  \n",
       "28063  2008  \n",
       "28064  2012  \n",
       "28065  2010  \n",
       "28066  2011  \n",
       "28067  2010  \n",
       "\n",
       "[28068 rows x 14 columns]"
      ]
     },
     "execution_count": 46,
     "metadata": {},
     "output_type": "execute_result"
    }
   ],
   "source": [
    "train_data"
   ]
  },
  {
   "cell_type": "markdown",
   "metadata": {},
   "source": [
    "Undersampling/Oversampling doesn't seem to work... Reducing number of training instances is hurting accuracy..."
   ]
  },
  {
   "cell_type": "markdown",
   "metadata": {},
   "source": [
    "# SVM Linear Kernel"
   ]
  },
  {
   "cell_type": "code",
   "execution_count": null,
   "metadata": {},
   "outputs": [],
   "source": [
    "from sklearn.svm import SVC"
   ]
  },
  {
   "cell_type": "markdown",
   "metadata": {},
   "source": [
    "In general, SVM is O(n^3). Therefore, it is use feature selection... Going to use filter method 'SelectKBest'."
   ]
  },
  {
   "cell_type": "code",
   "execution_count": null,
   "metadata": {},
   "outputs": [],
   "source": [
    "KBest = SelectKBest(chi2, k = 500)\n",
    "KBest.fit(X_train, y_train)\n",
    "X_train_best = KBest.transform(X_train)\n",
    "X_test_best = KBest.transform(X_test)"
   ]
  },
  {
   "cell_type": "markdown",
   "metadata": {},
   "source": [
    "svm grid search too expensive..."
   ]
  },
  {
   "cell_type": "code",
   "execution_count": null,
   "metadata": {},
   "outputs": [],
   "source": [
    "svc = SVC(kernel = 'linear', C = 1)\n",
    "svc.fit(X_train_best, y_train)"
   ]
  },
  {
   "cell_type": "code",
   "execution_count": null,
   "metadata": {},
   "outputs": [],
   "source": [
    "score = svc.score(X_test_best, y_test)\n",
    "print(\"multinominal naive bayes accuracy: {:.4f}\".format(score))\n",
    "plot_confusion_matrix(svc, X_test_best, y_test, normalize = \"true\")"
   ]
  },
  {
   "cell_type": "markdown",
   "metadata": {},
   "source": [
    "# Random Forest"
   ]
  },
  {
   "cell_type": "code",
   "execution_count": null,
   "metadata": {},
   "outputs": [],
   "source": [
    "from sklearn.ensemble import RandomForestClassifier"
   ]
  },
  {
   "cell_type": "code",
   "execution_count": null,
   "metadata": {},
   "outputs": [],
   "source": [
    "X_best = KBest.transform(X)"
   ]
  },
  {
   "cell_type": "markdown",
   "metadata": {},
   "source": [
    "with feature selection..."
   ]
  },
  {
   "cell_type": "code",
   "execution_count": null,
   "metadata": {},
   "outputs": [],
   "source": [
    "rfc_KBest = RandomForestClassifier()\n",
    "cross_val_score(rfc, X_best, y)"
   ]
  },
  {
   "cell_type": "markdown",
   "metadata": {},
   "source": [
    "without feature selection..."
   ]
  },
  {
   "cell_type": "code",
   "execution_count": null,
   "metadata": {},
   "outputs": [],
   "source": [
    "rfc = RandomForestClassifier()\n",
    "cross_val_score(rfc, X, y)"
   ]
  },
  {
   "cell_type": "code",
   "execution_count": null,
   "metadata": {},
   "outputs": [],
   "source": [
    "rfc_KBest = RandomForestClassifier()\n",
    "rfc_KBest.fit(X_train_best, y_train)"
   ]
  },
  {
   "cell_type": "code",
   "execution_count": null,
   "metadata": {},
   "outputs": [],
   "source": [
    "score = rfc_KBest.score(X_test_best, y_test)\n",
    "print(\"random forest classifier accuracy: {:.4f}\".format(score))\n",
    "plot_confusion_matrix(rfc_KBest, X_test_best, y_test, normalize = \"true\")"
   ]
  },
  {
   "cell_type": "markdown",
   "metadata": {},
   "source": [
    "# Adaboost Classifier"
   ]
  },
  {
   "cell_type": "code",
   "execution_count": null,
   "metadata": {},
   "outputs": [],
   "source": [
    "from sklearn.ensemble import AdaBoostClassifier"
   ]
  },
  {
   "cell_type": "code",
   "execution_count": null,
   "metadata": {},
   "outputs": [],
   "source": [
    "ada = AdaBoostClassifier()\n",
    "cross_val_score(ada, X, y)"
   ]
  },
  {
   "cell_type": "code",
   "execution_count": null,
   "metadata": {},
   "outputs": [],
   "source": [
    "ada = AdaBoostClassifier()\n",
    "ada.fit(X_train, y_train)"
   ]
  },
  {
   "cell_type": "code",
   "execution_count": null,
   "metadata": {},
   "outputs": [],
   "source": [
    "predictions = ada.predict(X_test)\n",
    "score = ada.score(X_test, y_test)\n",
    "print(\"multinominal naive bayes accuracy: {:.4f}\".format(score))\n",
    "plot_confusion_matrix(ada, X_test, y_test, normalize = \"true\")"
   ]
  },
  {
   "cell_type": "code",
   "execution_count": null,
   "metadata": {},
   "outputs": [],
   "source": [
    "ada = AdaBoostClassifier()\n",
    "ada.fit(X_train_best, y_train)"
   ]
  },
  {
   "cell_type": "markdown",
   "metadata": {},
   "source": [
    "doest do any better with feature selection..."
   ]
  },
  {
   "cell_type": "code",
   "execution_count": null,
   "metadata": {},
   "outputs": [],
   "source": [
    "score = ada.score(X_test_best, y_test)\n",
    "print(\"multinominal naive bayes accuracy: {:.4f}\".format(score))\n",
    "plot_confusion_matrix(ada, X_test_best, y_test, normalize = \"true\")"
   ]
  },
  {
   "cell_type": "markdown",
   "metadata": {},
   "source": [
    "Logistic Regression seems to be the best individual classifier. Lets trying tinkering around with some Logistic Regression parameters before we trying stacking the learners."
   ]
  },
  {
   "cell_type": "markdown",
   "metadata": {},
   "source": [
    "# Logistic Regression 2"
   ]
  },
  {
   "cell_type": "markdown",
   "metadata": {},
   "source": [
    "Lets train the mnb classifier using all the data and these hyperparameters..."
   ]
  },
  {
   "cell_type": "code",
   "execution_count": null,
   "metadata": {},
   "outputs": [],
   "source": [
    "for ngrams in range(1, 4):\n",
    "    \n",
    "    X = train_data.review\n",
    "    y = train_data.rating\n",
    "\n",
    "    vectorizer = CountVectorizer(stop_words = 'english', ngram_range = (1, ngrams))\n",
    "    vectorizer.fit(X)\n",
    "    X = vectorizer.transform(X)\n",
    "\n",
    "    X_train, X_test, y_train, y_test = train_test_split(X, y, train_size = 0.8, random_state = 0)\n",
    "    \n",
    "    logreg = LogisticRegression(C = 0.1, max_iter = 1000000, penalty = 'l2')\n",
    "    logreg.fit(X_train, y_train)\n",
    "    score = logreg.score(X_test, y_test)\n",
    "    \n",
    "    print(\"ngrams = {}, logistic regression score is {}\".format(ngrams, score))"
   ]
  },
  {
   "cell_type": "markdown",
   "metadata": {},
   "source": [
    "Lets try with feature selection using ngrams = 2..."
   ]
  },
  {
   "cell_type": "code",
   "execution_count": null,
   "metadata": {},
   "outputs": [],
   "source": [
    "X = train_data.review\n",
    "y = train_data.rating\n",
    "\n",
    "vectorizer = CountVectorizer(stop_words = 'english', ngram_range = (1, 2))\n",
    "vectorizer.fit(X)\n",
    "X = vectorizer.transform(X)\n",
    "\n",
    "X_train, X_test, y_train, y_test = train_test_split(X, y, train_size = 0.8, random_state = 0)\n",
    "\n",
    "KBest = SelectKBest(chi2, k = 500)\n",
    "KBest.fit(X_train, y_train)\n",
    "X_train_best = KBest.transform(X_train)\n",
    "X_test_best = KBest.transform(X_test)\n",
    "\n",
    "logreg = LogisticRegression(C = 0.1, max_iter = 1000000, penalty = 'l2')\n",
    "logreg.fit(X_train_best, y_train)\n",
    "score = logreg.score(X_test_best, y_test)\n",
    "\n",
    "print(score)"
   ]
  },
  {
   "cell_type": "code",
   "execution_count": null,
   "metadata": {},
   "outputs": [],
   "source": [
    "X = train_data.review\n",
    "y = train_data.rating\n",
    "\n",
    "other_features = ['total_votes', 'vote_funny', 'vote_cool', 'vote_useful']\n",
    "features = train_data[other_features]"
   ]
  },
  {
   "cell_type": "code",
   "execution_count": null,
   "metadata": {},
   "outputs": [],
   "source": [
    "vectorizer = CountVectorizer(ngram_range = (1, 2))\n",
    "vectorizer.fit(X)\n",
    "X = vectorizer.transform(X)\n",
    "\n",
    "# stack the other features\n",
    "from scipy import sparse\n",
    "X = sparse.hstack((X, np.array(features)))"
   ]
  },
  {
   "cell_type": "code",
   "execution_count": null,
   "metadata": {},
   "outputs": [],
   "source": [
    "X_train, X_test, y_train, y_test = train_test_split(X, y, train_size = 0.8, random_state = 0)"
   ]
  },
  {
   "cell_type": "code",
   "execution_count": null,
   "metadata": {},
   "outputs": [],
   "source": [
    "logreg = LogisticRegression(C = 0.1, max_iter = 1000000, penalty = 'l2')\n",
    "logreg.fit(X_train, y_train)\n",
    "score = logreg.score(X_test, y_test)"
   ]
  },
  {
   "cell_type": "code",
   "execution_count": null,
   "metadata": {},
   "outputs": [],
   "source": [
    "print(score)"
   ]
  },
  {
   "cell_type": "code",
   "execution_count": null,
   "metadata": {},
   "outputs": [],
   "source": []
  },
  {
   "cell_type": "code",
   "execution_count": null,
   "metadata": {},
   "outputs": [],
   "source": []
  },
  {
   "cell_type": "markdown",
   "metadata": {},
   "source": [
    "# CROSS VALIDATION FOR ALL MODELS"
   ]
  },
  {
   "cell_type": "code",
   "execution_count": 417,
   "metadata": {},
   "outputs": [],
   "source": [
    "from sklearn.utils import shuffle\n",
    "import time\n",
    "\n",
    "X = train_data[['review', 'total_votes', 'vote_funny', 'vote_cool', 'vote_useful']]\n",
    "y = train_data['rating']\n",
    "\n",
    "X_train, X_test, y_train, y_test = train_test_split(X, y, train_size = 0.8, random_state = 0)\n",
    "\n",
    "X_train_clfs, X_train_meta, y_train_clfs, y_train_meta = train_test_split(X_train, y_train, train_size = 0.8, random_state = 0)\n",
    "\n",
    "classifiers = {\n",
    "    \"mnb\": MultinomialNB(alpha = 1),\n",
    "    \"rfc\": RandomForestClassifier(),\n",
    "    \"lr\": LogisticRegression(max_iter=1000000, C = 0.1, penalty = 'l2'),\n",
    "    \"svm\":  SVC(kernel = 'linear', C = 1.0),\n",
    "    \"adaboost\": AdaBoostClassifier()\n",
    "}\n",
    "\n",
    "clfs = []\n",
    "\n",
    "vectorizer = CountVectorizer(ngram_range = (1, 2))\n",
    "vectorizer.fit(X_train_clfs.review)\n",
    "\n",
    "X_train_clfs_review = vectorizer.transform(X_train_clfs.review)\n",
    "other_features = ['total_votes', 'vote_funny', 'vote_cool', 'vote_useful']\n",
    "X_train_clfs = sparse.hstack((X_train_clfs_review, np.array(X_train_clfs[other_features])))"
   ]
  },
  {
   "cell_type": "code",
   "execution_count": 419,
   "metadata": {},
   "outputs": [
    {
     "name": "stdout",
     "output_type": "stream",
     "text": [
      "training mnb\n",
      "training rfc\n",
      "training lr\n",
      "training svm\n",
      "training adaboost\n"
     ]
    }
   ],
   "source": [
    "for classifier in list(classifiers.keys()):\n",
    "    \n",
    "    print(\"training {}\".format(classifier))\n",
    "    \n",
    "    clf = classifiers[classifier]\n",
    "    \n",
    "    clf.fit(X_train_clfs, y_train_clfs)\n",
    "    \n",
    "    clfs.append(clf)"
   ]
  },
  {
   "cell_type": "code",
   "execution_count": 433,
   "metadata": {},
   "outputs": [],
   "source": [
    "predictions_dict = {}\n",
    "\n",
    "for clf in clfs:\n",
    "    \n",
    "        X_test_review = vectorizer.transform(X_test.review)\n",
    "        other_features = ['total_votes', 'vote_funny', 'vote_cool', 'vote_useful']\n",
    "        X_test_sparse = sparse.hstack((X_test_review, np.array(X_test[other_features])))\n",
    "        predictions = clf.predict(X_test_sparse)\n",
    "        predictions_dict[clf.__class__] = predictions"
   ]
  },
  {
   "cell_type": "code",
   "execution_count": 434,
   "metadata": {},
   "outputs": [
    {
     "data": {
      "text/plain": [
       "{sklearn.naive_bayes.MultinomialNB: array([5, 5, 5, ..., 5, 5, 5], dtype=int64),\n",
       " sklearn.ensemble._forest.RandomForestClassifier: array([5, 5, 5, ..., 5, 5, 5], dtype=int64),\n",
       " sklearn.linear_model._logistic.LogisticRegression: array([5, 5, 3, ..., 5, 5, 5], dtype=int64),\n",
       " sklearn.svm._classes.SVC: array([5, 5, 3, ..., 5, 5, 5], dtype=int64),\n",
       " sklearn.ensemble._weight_boosting.AdaBoostClassifier: array([5, 5, 5, ..., 5, 5, 5], dtype=int64)}"
      ]
     },
     "execution_count": 434,
     "metadata": {},
     "output_type": "execute_result"
    }
   ],
   "source": [
    "predictions_dict"
   ]
  },
  {
   "cell_type": "code",
   "execution_count": null,
   "metadata": {},
   "outputs": [],
   "source": []
  },
  {
   "cell_type": "code",
   "execution_count": null,
   "metadata": {},
   "outputs": [],
   "source": []
  },
  {
   "cell_type": "code",
   "execution_count": 438,
   "metadata": {},
   "outputs": [],
   "source": [
    "keys = list(predictions_dict.keys())"
   ]
  },
  {
   "cell_type": "code",
   "execution_count": 439,
   "metadata": {},
   "outputs": [],
   "source": [
    "combos = list(combinations(keys, 3))"
   ]
  },
  {
   "cell_type": "code",
   "execution_count": 441,
   "metadata": {},
   "outputs": [
    {
     "name": "stdout",
     "output_type": "stream",
     "text": [
      "(<class 'sklearn.naive_bayes.MultinomialNB'>, <class 'sklearn.ensemble._forest.RandomForestClassifier'>, <class 'sklearn.linear_model._logistic.LogisticRegression'>):\n",
      "    0.7604203776273601\n",
      "(<class 'sklearn.naive_bayes.MultinomialNB'>, <class 'sklearn.ensemble._forest.RandomForestClassifier'>, <class 'sklearn.svm._classes.SVC'>):\n",
      "    0.7589953687210546\n",
      "(<class 'sklearn.naive_bayes.MultinomialNB'>, <class 'sklearn.ensemble._forest.RandomForestClassifier'>, <class 'sklearn.ensemble._weight_boosting.AdaBoostClassifier'>):\n",
      "    0.7470609191307446\n",
      "(<class 'sklearn.naive_bayes.MultinomialNB'>, <class 'sklearn.linear_model._logistic.LogisticRegression'>, <class 'sklearn.svm._classes.SVC'>):\n",
      "    0.8664054150338439\n",
      "(<class 'sklearn.naive_bayes.MultinomialNB'>, <class 'sklearn.linear_model._logistic.LogisticRegression'>, <class 'sklearn.ensemble._weight_boosting.AdaBoostClassifier'>):\n",
      "    0.8302458140363377\n",
      "(<class 'sklearn.naive_bayes.MultinomialNB'>, <class 'sklearn.svm._classes.SVC'>, <class 'sklearn.ensemble._weight_boosting.AdaBoostClassifier'>):\n",
      "    0.8282864267901674\n",
      "(<class 'sklearn.ensemble._forest.RandomForestClassifier'>, <class 'sklearn.linear_model._logistic.LogisticRegression'>, <class 'sklearn.svm._classes.SVC'>):\n",
      "    0.8640897755610972\n",
      "(<class 'sklearn.ensemble._forest.RandomForestClassifier'>, <class 'sklearn.linear_model._logistic.LogisticRegression'>, <class 'sklearn.ensemble._weight_boosting.AdaBoostClassifier'>):\n",
      "    0.817598859992875\n",
      "(<class 'sklearn.ensemble._forest.RandomForestClassifier'>, <class 'sklearn.svm._classes.SVC'>, <class 'sklearn.ensemble._weight_boosting.AdaBoostClassifier'>):\n",
      "    0.8158175988599928\n",
      "(<class 'sklearn.linear_model._logistic.LogisticRegression'>, <class 'sklearn.svm._classes.SVC'>, <class 'sklearn.ensemble._weight_boosting.AdaBoostClassifier'>):\n",
      "    0.8697898111863199\n"
     ]
    }
   ],
   "source": [
    "combos = list(combinations(keys, 3))\n",
    "for combo in combos:\n",
    "    pred1 = predictions_dict[combo[0]]\n",
    "    pred2 = predictions_dict[combo[1]]\n",
    "    pred3 = predictions_dict[combo[2]]\n",
    "    predictions_df = pd.DataFrame(np.stack((pred1, pred2, pred3)).transpose())\n",
    "    predictions_df = predictions_df.rename(columns = {0: \"pred1\", 1: \"pred2\", 2: \"pred3\"})\n",
    "    predictions_df['mode'] = predictions_df.apply(lambda x: Counter([x[\"pred1\"], x[\"pred2\"], x[\"pred3\"]]).most_common(1)[0][0], axis = 1)\n",
    "    score = accuracy_score(predictions_df['mode'], y_test)\n",
    "    print('''{}:\n",
    "    {}'''.format(combo, score))"
   ]
  },
  {
   "cell_type": "code",
   "execution_count": 442,
   "metadata": {},
   "outputs": [
    {
     "data": {
      "text/plain": [
       "0.8574991093694335"
      ]
     },
     "execution_count": 442,
     "metadata": {},
     "output_type": "execute_result"
    }
   ],
   "source": [
    "accuracy_score(list(predictions_dict.values())[3], y_test)"
   ]
  },
  {
   "cell_type": "code",
   "execution_count": 443,
   "metadata": {},
   "outputs": [],
   "source": [
    "pred1 = predictions_dict[combo[0]]\n",
    "pred2 = predictions_dict[combo[1]]\n",
    "pred3 = predictions_dict[combo[2]]"
   ]
  },
  {
   "cell_type": "code",
   "execution_count": 444,
   "metadata": {},
   "outputs": [
    {
     "data": {
      "text/plain": [
       "0.8697898111863199"
      ]
     },
     "execution_count": 444,
     "metadata": {},
     "output_type": "execute_result"
    }
   ],
   "source": [
    "predictions_df = pd.DataFrame(np.stack((pred1, pred2, pred3)).transpose())\n",
    "predictions_df = predictions_df.rename(columns = {0: \"pred1\", 1: \"pred2\", 2: \"pred3\"})\n",
    "predictions_df['mode'] = predictions_df.apply(lambda x: Counter([x[\"pred1\"], x[\"pred2\"], x[\"pred3\"]]).most_common(1)[0][0], axis = 1)\n",
    "accuracy_score(predictions_df['mode'], y_test)"
   ]
  },
  {
   "cell_type": "code",
   "execution_count": null,
   "metadata": {},
   "outputs": [],
   "source": []
  },
  {
   "cell_type": "code",
   "execution_count": null,
   "metadata": {},
   "outputs": [],
   "source": []
  },
  {
   "cell_type": "code",
   "execution_count": 242,
   "metadata": {},
   "outputs": [],
   "source": [
    "classifiers = {\n",
    "    \"mnb\": MultinomialNB(alpha = 1),\n",
    "    \"rfc\": RandomForestClassifier(),\n",
    "    \"lr\": LogisticRegression(max_iter=1000000, C = 0.1, penalty = 'l2'),\n",
    "    \"svm\":  SVC(kernel = 'linear', C = 1.0),\n",
    "    \"adaboost\": AdaBoostClassifier()\n",
    "}"
   ]
  },
  {
   "cell_type": "code",
   "execution_count": 250,
   "metadata": {},
   "outputs": [
    {
     "data": {
      "text/plain": [
       "array([[5, 5, 5, ..., 2, 2, 3],\n",
       "       [5, 5, 5, ..., 0, 0, 0],\n",
       "       [5, 5, 3, ..., 3, 2, 3],\n",
       "       ...,\n",
       "       [5, 5, 5, ..., 0, 0, 1],\n",
       "       [5, 5, 5, ..., 0, 0, 0],\n",
       "       [5, 5, 5, ..., 0, 0, 0]], dtype=int64)"
      ]
     },
     "execution_count": 250,
     "metadata": {},
     "output_type": "execute_result"
    }
   ],
   "source": [
    "X_test"
   ]
  },
  {
   "cell_type": "code",
   "execution_count": 290,
   "metadata": {},
   "outputs": [
    {
     "data": {
      "text/plain": [
       "(4491, 9)"
      ]
     },
     "execution_count": 290,
     "metadata": {},
     "output_type": "execute_result"
    }
   ],
   "source": [
    "X_train_meta.shape"
   ]
  },
  {
   "cell_type": "code",
   "execution_count": 283,
   "metadata": {},
   "outputs": [
    {
     "name": "stdout",
     "output_type": "stream",
     "text": [
      "mnb\n",
      "classifier mnb score is 0.6626291414321339\n",
      "rfc\n",
      "classifier rfc score is 0.8656929105806911\n",
      "lr\n",
      "classifier lr score is 0.871571072319202\n",
      "svm\n",
      "classifier svm score is 0.8726398289989312\n",
      "adaboost\n",
      "classifier adaboost score is 0.8729960812255076\n"
     ]
    }
   ],
   "source": [
    "for meta_classifier in list(classifiers.keys()):\n",
    "    \n",
    "    print(meta_classifier)\n",
    "    \n",
    "    meta_clf = classifiers[meta_classifier]\n",
    "    meta_clf.fit(X_train_meta, y_train_meta)\n",
    "    \n",
    "    X_test_review = vectorizer.transform(X_test.review)\n",
    "    \n",
    "    predictions_list = []\n",
    "    \n",
    "    for clf in clfs:\n",
    "\n",
    "        predictions = clf.predict(X_test_review)\n",
    "        predictions_list.append(predictions)\n",
    "        \n",
    "    clf_predictions = np.stack(predictions_list).transpose()\n",
    "    X_test_meta = np.column_stack((clf_predictions, np.array(X_test[['total_votes', 'vote_funny', 'vote_cool', 'vote_useful']])))\n",
    "        \n",
    "    meta_score = meta_clf.score(X_test_meta, np.array(y_test))\n",
    "    \n",
    "    print(\"classifier {} score is {}\".format(meta_classifier, meta_score))"
   ]
  },
  {
   "cell_type": "code",
   "execution_count": null,
   "metadata": {},
   "outputs": [],
   "source": [
    "for meta_classifier in list(classifiers.keys()):\n",
    "    \n",
    "    print(meta_classifier)\n",
    "    \n",
    "    meta_clf = classifiers[meta_classifier]\n",
    "    meta_clf.fit(X_train_meta, y_train_meta)\n",
    "    \n",
    "    X_test_review = vectorizer.transform(X_test.review)\n",
    "    \n",
    "    predictions_list = []\n",
    "    \n",
    "    for clf in clfs:\n",
    "\n",
    "        predictions = clf.predict(X_test_review)\n",
    "        predictions_list.append(predictions)\n",
    "        \n",
    "    clf_predictions = np.stack(predictions_list).transpose()\n",
    "    X_test_meta = np.column_stack((clf_predictions, np.array(X_test[['total_votes', 'vote_funny', 'vote_cool', 'vote_useful']])))\n",
    "        \n",
    "    meta_score = meta_clf.score(X_test_meta, np.array(y_test))\n",
    "    \n",
    "    print(\"classifier {} score is {}\".format(meta_classifier, meta_score))"
   ]
  },
  {
   "cell_type": "code",
   "execution_count": 286,
   "metadata": {},
   "outputs": [
    {
     "data": {
      "text/plain": [
       "sklearn.ensemble._weight_boosting.AdaBoostClassifier"
      ]
     },
     "execution_count": 286,
     "metadata": {},
     "output_type": "execute_result"
    }
   ],
   "source": [
    "clf.__class__"
   ]
  },
  {
   "cell_type": "code",
   "execution_count": 287,
   "metadata": {},
   "outputs": [],
   "source": [
    "predictions_list = {}\n",
    "    \n",
    "for clf in clfs:\n",
    "\n",
    "    predictions = clf.predict(X_test_review)\n",
    "    predictions_list[clf.__class__] = predictions"
   ]
  },
  {
   "cell_type": "code",
   "execution_count": 288,
   "metadata": {},
   "outputs": [
    {
     "data": {
      "text/plain": [
       "{sklearn.naive_bayes.MultinomialNB: array([5, 5, 5, ..., 5, 5, 5], dtype=int64),\n",
       " sklearn.ensemble._forest.RandomForestClassifier: array([5, 5, 5, ..., 5, 5, 5], dtype=int64),\n",
       " sklearn.linear_model._logistic.LogisticRegression: array([5, 5, 3, ..., 5, 5, 5], dtype=int64),\n",
       " sklearn.svm._classes.SVC: array([5, 5, 3, ..., 5, 5, 5], dtype=int64),\n",
       " sklearn.ensemble._weight_boosting.AdaBoostClassifier: array([5, 5, 5, ..., 5, 5, 5], dtype=int64)}"
      ]
     },
     "execution_count": 288,
     "metadata": {},
     "output_type": "execute_result"
    }
   ],
   "source": [
    "predictions_list"
   ]
  },
  {
   "cell_type": "code",
   "execution_count": null,
   "metadata": {},
   "outputs": [],
   "source": []
  },
  {
   "cell_type": "code",
   "execution_count": null,
   "metadata": {},
   "outputs": [],
   "source": []
  },
  {
   "cell_type": "code",
   "execution_count": 235,
   "metadata": {},
   "outputs": [
    {
     "data": {
      "text/plain": [
       "RandomForestClassifier(bootstrap=True, ccp_alpha=0.0, class_weight=None,\n",
       "                       criterion='gini', max_depth=None, max_features='auto',\n",
       "                       max_leaf_nodes=None, max_samples=None,\n",
       "                       min_impurity_decrease=0.0, min_impurity_split=None,\n",
       "                       min_samples_leaf=1, min_samples_split=2,\n",
       "                       min_weight_fraction_leaf=0.0, n_estimators=100,\n",
       "                       n_jobs=None, oob_score=False, random_state=None,\n",
       "                       verbose=0, warm_start=False)"
      ]
     },
     "execution_count": 235,
     "metadata": {},
     "output_type": "execute_result"
    }
   ],
   "source": [
    "logreg.fit(X_train_meta, y_train_meta)"
   ]
  },
  {
   "cell_type": "code",
   "execution_count": 236,
   "metadata": {},
   "outputs": [
    {
     "data": {
      "text/plain": [
       "0.9067022934758405"
      ]
     },
     "execution_count": 236,
     "metadata": {},
     "output_type": "execute_result"
    }
   ],
   "source": [
    "logreg.score(X_train_meta, y_train_meta)"
   ]
  },
  {
   "cell_type": "code",
   "execution_count": null,
   "metadata": {},
   "outputs": [],
   "source": []
  },
  {
   "cell_type": "code",
   "execution_count": 238,
   "metadata": {},
   "outputs": [],
   "source": [
    "predictions_list = []\n",
    "\n",
    "X_test_review = vectorizer.transform(X_test.review)\n",
    "\n",
    "for clf in clfs:\n",
    "    \n",
    "        predictions = clf.predict(X_test_review)\n",
    "        predictions_list.append(predictions)\n",
    "        \n",
    "predictions = np.stack(predictions_list).transpose()"
   ]
  },
  {
   "cell_type": "code",
   "execution_count": 239,
   "metadata": {},
   "outputs": [],
   "source": [
    "X_test = np.column_stack((predictions, np.array(X_test[['total_votes', 'vote_funny', 'vote_cool', 'vote_useful']])))"
   ]
  },
  {
   "cell_type": "code",
   "execution_count": 241,
   "metadata": {},
   "outputs": [
    {
     "data": {
      "text/plain": [
       "0.8662272889205558"
      ]
     },
     "execution_count": 241,
     "metadata": {},
     "output_type": "execute_result"
    }
   ],
   "source": [
    "logreg.score(X_test, y_test)"
   ]
  },
  {
   "cell_type": "code",
   "execution_count": null,
   "metadata": {},
   "outputs": [],
   "source": []
  },
  {
   "cell_type": "code",
   "execution_count": null,
   "metadata": {},
   "outputs": [],
   "source": []
  },
  {
   "cell_type": "code",
   "execution_count": null,
   "metadata": {},
   "outputs": [],
   "source": []
  },
  {
   "cell_type": "code",
   "execution_count": null,
   "metadata": {},
   "outputs": [],
   "source": []
  },
  {
   "cell_type": "code",
   "execution_count": null,
   "metadata": {},
   "outputs": [],
   "source": [
    "# X_train_meta = sparse.hstack((X_train_meta_review, np.array(X_train_meta[['total_votes', 'vote_funny', 'vote_cool', 'vote_useful']])))\n"
   ]
  },
  {
   "cell_type": "code",
   "execution_count": null,
   "metadata": {},
   "outputs": [],
   "source": []
  },
  {
   "cell_type": "code",
   "execution_count": 95,
   "metadata": {},
   "outputs": [],
   "source": [
    "train = shuffle(train_data[['rating', 'review']], random_state = 0)\n",
    "folds = np.array_split(train, 5)"
   ]
  },
  {
   "cell_type": "code",
   "execution_count": 193,
   "metadata": {},
   "outputs": [],
   "source": [
    "X = train_data[['review', 'total_votes', 'vote_funny', 'vote_cool', 'vote_useful']]\n",
    "y = train_data['rating']"
   ]
  },
  {
   "cell_type": "code",
   "execution_count": null,
   "metadata": {},
   "outputs": [
    {
     "name": "stdout",
     "output_type": "stream",
     "text": [
      "TESTING ON COUNTVECTORIZER\n",
      "\n",
      "            RFC took 36.19 seconds to train\n",
      "            and has training accuracy 0.987 and testing accuracy 0.786\n",
      "            - - - - - - - - - - - - - - - - - - - - - - - - - - - - - - - - \n",
      "            \n",
      "\n",
      "            RFC took 36.41 seconds to train\n",
      "            and has training accuracy 0.987 and testing accuracy 0.784\n",
      "            - - - - - - - - - - - - - - - - - - - - - - - - - - - - - - - - \n",
      "            \n",
      "\n",
      "            RFC took 36.90 seconds to train\n",
      "            and has training accuracy 0.987 and testing accuracy 0.786\n",
      "            - - - - - - - - - - - - - - - - - - - - - - - - - - - - - - - - \n",
      "            \n",
      "\n",
      "            RFC took 36.54 seconds to train\n",
      "            and has training accuracy 0.987 and testing accuracy 0.781\n",
      "            - - - - - - - - - - - - - - - - - - - - - - - - - - - - - - - - \n",
      "            \n",
      "\n",
      "            RFC took 37.18 seconds to train\n",
      "            and has training accuracy 0.987 and testing accuracy 0.780\n",
      "            - - - - - - - - - - - - - - - - - - - - - - - - - - - - - - - - \n",
      "            \n",
      "the mean test score for RFC was 0.783\n",
      "\n",
      "            XGB took 32.18 seconds to train\n",
      "            and has training accuracy 0.953 and testing accuracy 0.856\n",
      "            - - - - - - - - - - - - - - - - - - - - - - - - - - - - - - - - \n",
      "            \n",
      "\n",
      "            XGB took 33.60 seconds to train\n",
      "            and has training accuracy 0.952 and testing accuracy 0.853\n",
      "            - - - - - - - - - - - - - - - - - - - - - - - - - - - - - - - - \n",
      "            \n",
      "\n",
      "            XGB took 31.48 seconds to train\n",
      "            and has training accuracy 0.950 and testing accuracy 0.845\n",
      "            - - - - - - - - - - - - - - - - - - - - - - - - - - - - - - - - \n",
      "            \n",
      "\n",
      "            XGB took 33.44 seconds to train\n",
      "            and has training accuracy 0.952 and testing accuracy 0.849\n",
      "            - - - - - - - - - - - - - - - - - - - - - - - - - - - - - - - - \n",
      "            \n",
      "\n",
      "            XGB took 29.98 seconds to train\n",
      "            and has training accuracy 0.952 and testing accuracy 0.844\n",
      "            - - - - - - - - - - - - - - - - - - - - - - - - - - - - - - - - \n",
      "            \n",
      "the mean test score for XGB was 0.849\n"
     ]
    },
    {
     "name": "stderr",
     "output_type": "stream",
     "text": [
      "C:\\Users\\alecy\\Anaconda3\\lib\\site-packages\\sklearn\\linear_model\\_logistic.py:764: ConvergenceWarning: lbfgs failed to converge (status=1):\n",
      "STOP: TOTAL NO. of ITERATIONS REACHED LIMIT.\n",
      "\n",
      "Increase the number of iterations (max_iter) or scale the data as shown in:\n",
      "    https://scikit-learn.org/stable/modules/preprocessing.html\n",
      "Please also refer to the documentation for alternative solver options:\n",
      "    https://scikit-learn.org/stable/modules/linear_model.html#logistic-regression\n",
      "  extra_warning_msg=_LOGISTIC_SOLVER_CONVERGENCE_MSG)\n"
     ]
    },
    {
     "name": "stdout",
     "output_type": "stream",
     "text": [
      "\n",
      "            LR took 4.41 seconds to train\n",
      "            and has training accuracy 0.950 and testing accuracy 0.862\n",
      "            - - - - - - - - - - - - - - - - - - - - - - - - - - - - - - - - \n",
      "            \n"
     ]
    },
    {
     "name": "stderr",
     "output_type": "stream",
     "text": [
      "C:\\Users\\alecy\\Anaconda3\\lib\\site-packages\\sklearn\\linear_model\\_logistic.py:764: ConvergenceWarning: lbfgs failed to converge (status=1):\n",
      "STOP: TOTAL NO. of ITERATIONS REACHED LIMIT.\n",
      "\n",
      "Increase the number of iterations (max_iter) or scale the data as shown in:\n",
      "    https://scikit-learn.org/stable/modules/preprocessing.html\n",
      "Please also refer to the documentation for alternative solver options:\n",
      "    https://scikit-learn.org/stable/modules/linear_model.html#logistic-regression\n",
      "  extra_warning_msg=_LOGISTIC_SOLVER_CONVERGENCE_MSG)\n"
     ]
    },
    {
     "name": "stdout",
     "output_type": "stream",
     "text": [
      "\n",
      "            LR took 4.43 seconds to train\n",
      "            and has training accuracy 0.948 and testing accuracy 0.858\n",
      "            - - - - - - - - - - - - - - - - - - - - - - - - - - - - - - - - \n",
      "            \n"
     ]
    },
    {
     "name": "stderr",
     "output_type": "stream",
     "text": [
      "C:\\Users\\alecy\\Anaconda3\\lib\\site-packages\\sklearn\\linear_model\\_logistic.py:764: ConvergenceWarning: lbfgs failed to converge (status=1):\n",
      "STOP: TOTAL NO. of ITERATIONS REACHED LIMIT.\n",
      "\n",
      "Increase the number of iterations (max_iter) or scale the data as shown in:\n",
      "    https://scikit-learn.org/stable/modules/preprocessing.html\n",
      "Please also refer to the documentation for alternative solver options:\n",
      "    https://scikit-learn.org/stable/modules/linear_model.html#logistic-regression\n",
      "  extra_warning_msg=_LOGISTIC_SOLVER_CONVERGENCE_MSG)\n"
     ]
    },
    {
     "name": "stdout",
     "output_type": "stream",
     "text": [
      "\n",
      "            LR took 4.01 seconds to train\n",
      "            and has training accuracy 0.950 and testing accuracy 0.857\n",
      "            - - - - - - - - - - - - - - - - - - - - - - - - - - - - - - - - \n",
      "            \n"
     ]
    },
    {
     "name": "stderr",
     "output_type": "stream",
     "text": [
      "C:\\Users\\alecy\\Anaconda3\\lib\\site-packages\\sklearn\\linear_model\\_logistic.py:764: ConvergenceWarning: lbfgs failed to converge (status=1):\n",
      "STOP: TOTAL NO. of ITERATIONS REACHED LIMIT.\n",
      "\n",
      "Increase the number of iterations (max_iter) or scale the data as shown in:\n",
      "    https://scikit-learn.org/stable/modules/preprocessing.html\n",
      "Please also refer to the documentation for alternative solver options:\n",
      "    https://scikit-learn.org/stable/modules/linear_model.html#logistic-regression\n",
      "  extra_warning_msg=_LOGISTIC_SOLVER_CONVERGENCE_MSG)\n"
     ]
    },
    {
     "name": "stdout",
     "output_type": "stream",
     "text": [
      "\n",
      "            LR took 4.46 seconds to train\n",
      "            and has training accuracy 0.950 and testing accuracy 0.855\n",
      "            - - - - - - - - - - - - - - - - - - - - - - - - - - - - - - - - \n",
      "            \n"
     ]
    },
    {
     "name": "stderr",
     "output_type": "stream",
     "text": [
      "C:\\Users\\alecy\\Anaconda3\\lib\\site-packages\\sklearn\\linear_model\\_logistic.py:764: ConvergenceWarning: lbfgs failed to converge (status=1):\n",
      "STOP: TOTAL NO. of ITERATIONS REACHED LIMIT.\n",
      "\n",
      "Increase the number of iterations (max_iter) or scale the data as shown in:\n",
      "    https://scikit-learn.org/stable/modules/preprocessing.html\n",
      "Please also refer to the documentation for alternative solver options:\n",
      "    https://scikit-learn.org/stable/modules/linear_model.html#logistic-regression\n",
      "  extra_warning_msg=_LOGISTIC_SOLVER_CONVERGENCE_MSG)\n"
     ]
    },
    {
     "name": "stdout",
     "output_type": "stream",
     "text": [
      "\n",
      "            LR took 4.94 seconds to train\n",
      "            and has training accuracy 0.954 and testing accuracy 0.859\n",
      "            - - - - - - - - - - - - - - - - - - - - - - - - - - - - - - - - \n",
      "            \n",
      "the mean test score for LR was 0.858\n",
      "\n",
      "            SVMLINEAR took 618.65 seconds to train\n",
      "            and has training accuracy 0.995 and testing accuracy 0.842\n",
      "            - - - - - - - - - - - - - - - - - - - - - - - - - - - - - - - - \n",
      "            \n",
      "\n",
      "            SVMLINEAR took 600.04 seconds to train\n",
      "            and has training accuracy 0.994 and testing accuracy 0.839\n",
      "            - - - - - - - - - - - - - - - - - - - - - - - - - - - - - - - - \n",
      "            \n"
     ]
    }
   ],
   "source": [
    "X = train_data[['review', 'total_votes', 'vote_funny', 'vote_cool', 'vote_useful']]\n",
    "y = train_data['rating']\n",
    "\n",
    "\n",
    "\n",
    "meta_X\n",
    "\n",
    "for classifier in list(classifiers.keys()):\n",
    "    \n",
    "    clf = classifiers[classifier]\n",
    "    \n",
    "    test_scores = []\n",
    "    \n",
    "    for fold_n in range(5):\n",
    "        \n",
    "        \n",
    "        train_folds = [folds[i] for i in range(len(folds)) if i != fold_n]\n",
    "        train_fold = pd.concat(train_folds, axis = 0)\n",
    "        \n",
    "        test_fold = folds[fold_n]\n",
    "\n",
    "        X_train_txt, y_train = train_fold[\"review\"], np.array(train_fold[\"rating\"])\n",
    "        X_test_txt, y_test = test_fold[\"review\"], np.array(test_fold[\"rating\"])\n",
    "        \n",
    "        vectorser = CountVectorizer(ngram_range=(1, 1))\n",
    "        vectoriser.fit(X_train_txt)\n",
    "        X_train = vectoriser.transform(X_train_txt)\n",
    "        X_test = vectoriser.transform(X_test_txt)\n",
    "        \n",
    "        # If its the RFC, optimise it by feature selecting\n",
    "        if(classifier == \"RFC\"):\n",
    "            x2 = SelectKBest(chi2, k=1000)\n",
    "            X_train = x2.fit_transform(X_train, y_train)\n",
    "            X_test = x2.transform(X_test)\n",
    "\n",
    "        before = time.time()\n",
    "        clf.fit(X_train, y_train)\n",
    "        after = time.time()\n",
    "        train_time = after - before\n",
    "\n",
    "        train_score = clf.score(X_train, y_train)\n",
    "        test_score = clf.score(X_test, y_test)\n",
    "        \n",
    "        test_scores.append(test_score)\n",
    "        \n",
    "        print(\n",
    "            '''\n",
    "            {} took {:.2f} seconds to train\n",
    "            and has training accuracy {:.3f} and testing accuracy {:.3f}\n",
    "            - - - - - - - - - - - - - - - - - - - - - - - - - - - - - - - - \n",
    "            '''.format(classifier, train_time, train_score, test_score)\n",
    "        )\n",
    "    \n",
    "    mean_test_score = np.mean(test_scores)\n",
    "    \n",
    "    print(\"the mean test score for {} was {:.3f}\".format(classifier, mean_test_score))"
   ]
  },
  {
   "cell_type": "markdown",
   "metadata": {},
   "source": [
    "# Stacking\n",
    "seems like the doc2vec vectors aren't as informative as the countVectoriser  \n",
    "best to use ngrams(1,1) for doc2vecs? (1,2) causes marginal difference in other models, but causes around a 10% accuracy dip for multinomial  \n",
    "RFC gains around 7-8% accuracy if trained using chi2 features  \n",
    "of course, chi2 can't be used for d2v inputs as they contain negative values  \n",
    "MNB also can't be used for d2v inputs"
   ]
  },
  {
   "cell_type": "markdown",
   "metadata": {},
   "source": [
    "All except MNB:  \n",
    "first do for d2v_50_train  84~  \n",
    "stacking ~ 85% for 50  \n",
    "86.2% for 200"
   ]
  },
  {
   "cell_type": "code",
   "execution_count": 85,
   "metadata": {},
   "outputs": [
    {
     "name": "stdout",
     "output_type": "stream",
     "text": [
      "0\n",
      "RFC accuracy 0.7278232988956181\n",
      "ADA accuracy 0.7502671891699323\n",
      "XGB accuracy 0.8120769504809405\n",
      "LR accuracy 0.8350552190951194\n",
      "SVMLINEAR accuracy 0.8339864624153901\n",
      "TIME:  706.2092406749725\n",
      "stacking accuracy is 0.8626193529998575\n",
      "1\n"
     ]
    },
    {
     "ename": "KeyboardInterrupt",
     "evalue": "",
     "output_type": "error",
     "traceback": [
      "\u001b[1;31m---------------------------------------------------------------------------\u001b[0m",
      "\u001b[1;31mKeyboardInterrupt\u001b[0m                         Traceback (most recent call last)",
      "\u001b[1;32m<ipython-input-85-9f7f072d91ce>\u001b[0m in \u001b[0;36m<module>\u001b[1;34m\u001b[0m\n\u001b[0;32m     46\u001b[0m         \u001b[0mclf\u001b[0m \u001b[1;33m=\u001b[0m \u001b[0mclassifiers\u001b[0m\u001b[1;33m[\u001b[0m\u001b[0mclassifier\u001b[0m\u001b[1;33m]\u001b[0m\u001b[1;33m\u001b[0m\u001b[1;33m\u001b[0m\u001b[0m\n\u001b[0;32m     47\u001b[0m         \u001b[0mclfs\u001b[0m\u001b[1;33m.\u001b[0m\u001b[0mappend\u001b[0m\u001b[1;33m(\u001b[0m\u001b[0mclf\u001b[0m\u001b[1;33m)\u001b[0m\u001b[1;33m\u001b[0m\u001b[1;33m\u001b[0m\u001b[0m\n\u001b[1;32m---> 48\u001b[1;33m         \u001b[0mclf\u001b[0m\u001b[1;33m.\u001b[0m\u001b[0mfit\u001b[0m\u001b[1;33m(\u001b[0m\u001b[0mX_train\u001b[0m\u001b[1;33m,\u001b[0m \u001b[0my_train\u001b[0m\u001b[1;33m)\u001b[0m\u001b[1;33m\u001b[0m\u001b[1;33m\u001b[0m\u001b[0m\n\u001b[0m\u001b[0;32m     49\u001b[0m         \u001b[0mscore\u001b[0m \u001b[1;33m=\u001b[0m \u001b[0mclf\u001b[0m\u001b[1;33m.\u001b[0m\u001b[0mscore\u001b[0m\u001b[1;33m(\u001b[0m\u001b[0mX_test\u001b[0m\u001b[1;33m,\u001b[0m \u001b[0my_test\u001b[0m\u001b[1;33m)\u001b[0m\u001b[1;33m\u001b[0m\u001b[1;33m\u001b[0m\u001b[0m\n\u001b[0;32m     50\u001b[0m         \u001b[0mprint\u001b[0m\u001b[1;33m(\u001b[0m\u001b[1;34m\"{} accuracy {}\"\u001b[0m\u001b[1;33m.\u001b[0m\u001b[0mformat\u001b[0m\u001b[1;33m(\u001b[0m\u001b[0mclassifier\u001b[0m\u001b[1;33m,\u001b[0m \u001b[0mscore\u001b[0m\u001b[1;33m)\u001b[0m\u001b[1;33m)\u001b[0m\u001b[1;33m\u001b[0m\u001b[1;33m\u001b[0m\u001b[0m\n",
      "\u001b[1;32m~\\Anaconda3\\lib\\site-packages\\sklearn\\ensemble\\_forest.py\u001b[0m in \u001b[0;36mfit\u001b[1;34m(self, X, y, sample_weight)\u001b[0m\n\u001b[0;32m    390\u001b[0m                     \u001b[0mverbose\u001b[0m\u001b[1;33m=\u001b[0m\u001b[0mself\u001b[0m\u001b[1;33m.\u001b[0m\u001b[0mverbose\u001b[0m\u001b[1;33m,\u001b[0m \u001b[0mclass_weight\u001b[0m\u001b[1;33m=\u001b[0m\u001b[0mself\u001b[0m\u001b[1;33m.\u001b[0m\u001b[0mclass_weight\u001b[0m\u001b[1;33m,\u001b[0m\u001b[1;33m\u001b[0m\u001b[1;33m\u001b[0m\u001b[0m\n\u001b[0;32m    391\u001b[0m                     n_samples_bootstrap=n_samples_bootstrap)\n\u001b[1;32m--> 392\u001b[1;33m                 for i, t in enumerate(trees))\n\u001b[0m\u001b[0;32m    393\u001b[0m \u001b[1;33m\u001b[0m\u001b[0m\n\u001b[0;32m    394\u001b[0m             \u001b[1;31m# Collect newly grown trees\u001b[0m\u001b[1;33m\u001b[0m\u001b[1;33m\u001b[0m\u001b[1;33m\u001b[0m\u001b[0m\n",
      "\u001b[1;32m~\\Anaconda3\\lib\\site-packages\\joblib\\parallel.py\u001b[0m in \u001b[0;36m__call__\u001b[1;34m(self, iterable)\u001b[0m\n\u001b[0;32m   1030\u001b[0m                 \u001b[0mself\u001b[0m\u001b[1;33m.\u001b[0m\u001b[0m_iterating\u001b[0m \u001b[1;33m=\u001b[0m \u001b[0mself\u001b[0m\u001b[1;33m.\u001b[0m\u001b[0m_original_iterator\u001b[0m \u001b[1;32mis\u001b[0m \u001b[1;32mnot\u001b[0m \u001b[1;32mNone\u001b[0m\u001b[1;33m\u001b[0m\u001b[1;33m\u001b[0m\u001b[0m\n\u001b[0;32m   1031\u001b[0m \u001b[1;33m\u001b[0m\u001b[0m\n\u001b[1;32m-> 1032\u001b[1;33m             \u001b[1;32mwhile\u001b[0m \u001b[0mself\u001b[0m\u001b[1;33m.\u001b[0m\u001b[0mdispatch_one_batch\u001b[0m\u001b[1;33m(\u001b[0m\u001b[0miterator\u001b[0m\u001b[1;33m)\u001b[0m\u001b[1;33m:\u001b[0m\u001b[1;33m\u001b[0m\u001b[1;33m\u001b[0m\u001b[0m\n\u001b[0m\u001b[0;32m   1033\u001b[0m                 \u001b[1;32mpass\u001b[0m\u001b[1;33m\u001b[0m\u001b[1;33m\u001b[0m\u001b[0m\n\u001b[0;32m   1034\u001b[0m \u001b[1;33m\u001b[0m\u001b[0m\n",
      "\u001b[1;32m~\\Anaconda3\\lib\\site-packages\\joblib\\parallel.py\u001b[0m in \u001b[0;36mdispatch_one_batch\u001b[1;34m(self, iterator)\u001b[0m\n\u001b[0;32m    845\u001b[0m                 \u001b[1;32mreturn\u001b[0m \u001b[1;32mFalse\u001b[0m\u001b[1;33m\u001b[0m\u001b[1;33m\u001b[0m\u001b[0m\n\u001b[0;32m    846\u001b[0m             \u001b[1;32melse\u001b[0m\u001b[1;33m:\u001b[0m\u001b[1;33m\u001b[0m\u001b[1;33m\u001b[0m\u001b[0m\n\u001b[1;32m--> 847\u001b[1;33m                 \u001b[0mself\u001b[0m\u001b[1;33m.\u001b[0m\u001b[0m_dispatch\u001b[0m\u001b[1;33m(\u001b[0m\u001b[0mtasks\u001b[0m\u001b[1;33m)\u001b[0m\u001b[1;33m\u001b[0m\u001b[1;33m\u001b[0m\u001b[0m\n\u001b[0m\u001b[0;32m    848\u001b[0m                 \u001b[1;32mreturn\u001b[0m \u001b[1;32mTrue\u001b[0m\u001b[1;33m\u001b[0m\u001b[1;33m\u001b[0m\u001b[0m\n\u001b[0;32m    849\u001b[0m \u001b[1;33m\u001b[0m\u001b[0m\n",
      "\u001b[1;32m~\\Anaconda3\\lib\\site-packages\\joblib\\parallel.py\u001b[0m in \u001b[0;36m_dispatch\u001b[1;34m(self, batch)\u001b[0m\n\u001b[0;32m    763\u001b[0m         \u001b[1;32mwith\u001b[0m \u001b[0mself\u001b[0m\u001b[1;33m.\u001b[0m\u001b[0m_lock\u001b[0m\u001b[1;33m:\u001b[0m\u001b[1;33m\u001b[0m\u001b[1;33m\u001b[0m\u001b[0m\n\u001b[0;32m    764\u001b[0m             \u001b[0mjob_idx\u001b[0m \u001b[1;33m=\u001b[0m \u001b[0mlen\u001b[0m\u001b[1;33m(\u001b[0m\u001b[0mself\u001b[0m\u001b[1;33m.\u001b[0m\u001b[0m_jobs\u001b[0m\u001b[1;33m)\u001b[0m\u001b[1;33m\u001b[0m\u001b[1;33m\u001b[0m\u001b[0m\n\u001b[1;32m--> 765\u001b[1;33m             \u001b[0mjob\u001b[0m \u001b[1;33m=\u001b[0m \u001b[0mself\u001b[0m\u001b[1;33m.\u001b[0m\u001b[0m_backend\u001b[0m\u001b[1;33m.\u001b[0m\u001b[0mapply_async\u001b[0m\u001b[1;33m(\u001b[0m\u001b[0mbatch\u001b[0m\u001b[1;33m,\u001b[0m \u001b[0mcallback\u001b[0m\u001b[1;33m=\u001b[0m\u001b[0mcb\u001b[0m\u001b[1;33m)\u001b[0m\u001b[1;33m\u001b[0m\u001b[1;33m\u001b[0m\u001b[0m\n\u001b[0m\u001b[0;32m    766\u001b[0m             \u001b[1;31m# A job can complete so quickly than its callback is\u001b[0m\u001b[1;33m\u001b[0m\u001b[1;33m\u001b[0m\u001b[1;33m\u001b[0m\u001b[0m\n\u001b[0;32m    767\u001b[0m             \u001b[1;31m# called before we get here, causing self._jobs to\u001b[0m\u001b[1;33m\u001b[0m\u001b[1;33m\u001b[0m\u001b[1;33m\u001b[0m\u001b[0m\n",
      "\u001b[1;32m~\\Anaconda3\\lib\\site-packages\\joblib\\_parallel_backends.py\u001b[0m in \u001b[0;36mapply_async\u001b[1;34m(self, func, callback)\u001b[0m\n\u001b[0;32m    204\u001b[0m     \u001b[1;32mdef\u001b[0m \u001b[0mapply_async\u001b[0m\u001b[1;33m(\u001b[0m\u001b[0mself\u001b[0m\u001b[1;33m,\u001b[0m \u001b[0mfunc\u001b[0m\u001b[1;33m,\u001b[0m \u001b[0mcallback\u001b[0m\u001b[1;33m=\u001b[0m\u001b[1;32mNone\u001b[0m\u001b[1;33m)\u001b[0m\u001b[1;33m:\u001b[0m\u001b[1;33m\u001b[0m\u001b[1;33m\u001b[0m\u001b[0m\n\u001b[0;32m    205\u001b[0m         \u001b[1;34m\"\"\"Schedule a func to be run\"\"\"\u001b[0m\u001b[1;33m\u001b[0m\u001b[1;33m\u001b[0m\u001b[0m\n\u001b[1;32m--> 206\u001b[1;33m         \u001b[0mresult\u001b[0m \u001b[1;33m=\u001b[0m \u001b[0mImmediateResult\u001b[0m\u001b[1;33m(\u001b[0m\u001b[0mfunc\u001b[0m\u001b[1;33m)\u001b[0m\u001b[1;33m\u001b[0m\u001b[1;33m\u001b[0m\u001b[0m\n\u001b[0m\u001b[0;32m    207\u001b[0m         \u001b[1;32mif\u001b[0m \u001b[0mcallback\u001b[0m\u001b[1;33m:\u001b[0m\u001b[1;33m\u001b[0m\u001b[1;33m\u001b[0m\u001b[0m\n\u001b[0;32m    208\u001b[0m             \u001b[0mcallback\u001b[0m\u001b[1;33m(\u001b[0m\u001b[0mresult\u001b[0m\u001b[1;33m)\u001b[0m\u001b[1;33m\u001b[0m\u001b[1;33m\u001b[0m\u001b[0m\n",
      "\u001b[1;32m~\\Anaconda3\\lib\\site-packages\\joblib\\_parallel_backends.py\u001b[0m in \u001b[0;36m__init__\u001b[1;34m(self, batch)\u001b[0m\n\u001b[0;32m    568\u001b[0m         \u001b[1;31m# Don't delay the application, to avoid keeping the input\u001b[0m\u001b[1;33m\u001b[0m\u001b[1;33m\u001b[0m\u001b[1;33m\u001b[0m\u001b[0m\n\u001b[0;32m    569\u001b[0m         \u001b[1;31m# arguments in memory\u001b[0m\u001b[1;33m\u001b[0m\u001b[1;33m\u001b[0m\u001b[1;33m\u001b[0m\u001b[0m\n\u001b[1;32m--> 570\u001b[1;33m         \u001b[0mself\u001b[0m\u001b[1;33m.\u001b[0m\u001b[0mresults\u001b[0m \u001b[1;33m=\u001b[0m \u001b[0mbatch\u001b[0m\u001b[1;33m(\u001b[0m\u001b[1;33m)\u001b[0m\u001b[1;33m\u001b[0m\u001b[1;33m\u001b[0m\u001b[0m\n\u001b[0m\u001b[0;32m    571\u001b[0m \u001b[1;33m\u001b[0m\u001b[0m\n\u001b[0;32m    572\u001b[0m     \u001b[1;32mdef\u001b[0m \u001b[0mget\u001b[0m\u001b[1;33m(\u001b[0m\u001b[0mself\u001b[0m\u001b[1;33m)\u001b[0m\u001b[1;33m:\u001b[0m\u001b[1;33m\u001b[0m\u001b[1;33m\u001b[0m\u001b[0m\n",
      "\u001b[1;32m~\\Anaconda3\\lib\\site-packages\\joblib\\parallel.py\u001b[0m in \u001b[0;36m__call__\u001b[1;34m(self)\u001b[0m\n\u001b[0;32m    251\u001b[0m         \u001b[1;32mwith\u001b[0m \u001b[0mparallel_backend\u001b[0m\u001b[1;33m(\u001b[0m\u001b[0mself\u001b[0m\u001b[1;33m.\u001b[0m\u001b[0m_backend\u001b[0m\u001b[1;33m,\u001b[0m \u001b[0mn_jobs\u001b[0m\u001b[1;33m=\u001b[0m\u001b[0mself\u001b[0m\u001b[1;33m.\u001b[0m\u001b[0m_n_jobs\u001b[0m\u001b[1;33m)\u001b[0m\u001b[1;33m:\u001b[0m\u001b[1;33m\u001b[0m\u001b[1;33m\u001b[0m\u001b[0m\n\u001b[0;32m    252\u001b[0m             return [func(*args, **kwargs)\n\u001b[1;32m--> 253\u001b[1;33m                     for func, args, kwargs in self.items]\n\u001b[0m\u001b[0;32m    254\u001b[0m \u001b[1;33m\u001b[0m\u001b[0m\n\u001b[0;32m    255\u001b[0m     \u001b[1;32mdef\u001b[0m \u001b[0m__reduce__\u001b[0m\u001b[1;33m(\u001b[0m\u001b[0mself\u001b[0m\u001b[1;33m)\u001b[0m\u001b[1;33m:\u001b[0m\u001b[1;33m\u001b[0m\u001b[1;33m\u001b[0m\u001b[0m\n",
      "\u001b[1;32m~\\Anaconda3\\lib\\site-packages\\joblib\\parallel.py\u001b[0m in \u001b[0;36m<listcomp>\u001b[1;34m(.0)\u001b[0m\n\u001b[0;32m    251\u001b[0m         \u001b[1;32mwith\u001b[0m \u001b[0mparallel_backend\u001b[0m\u001b[1;33m(\u001b[0m\u001b[0mself\u001b[0m\u001b[1;33m.\u001b[0m\u001b[0m_backend\u001b[0m\u001b[1;33m,\u001b[0m \u001b[0mn_jobs\u001b[0m\u001b[1;33m=\u001b[0m\u001b[0mself\u001b[0m\u001b[1;33m.\u001b[0m\u001b[0m_n_jobs\u001b[0m\u001b[1;33m)\u001b[0m\u001b[1;33m:\u001b[0m\u001b[1;33m\u001b[0m\u001b[1;33m\u001b[0m\u001b[0m\n\u001b[0;32m    252\u001b[0m             return [func(*args, **kwargs)\n\u001b[1;32m--> 253\u001b[1;33m                     for func, args, kwargs in self.items]\n\u001b[0m\u001b[0;32m    254\u001b[0m \u001b[1;33m\u001b[0m\u001b[0m\n\u001b[0;32m    255\u001b[0m     \u001b[1;32mdef\u001b[0m \u001b[0m__reduce__\u001b[0m\u001b[1;33m(\u001b[0m\u001b[0mself\u001b[0m\u001b[1;33m)\u001b[0m\u001b[1;33m:\u001b[0m\u001b[1;33m\u001b[0m\u001b[1;33m\u001b[0m\u001b[0m\n",
      "\u001b[1;32m~\\Anaconda3\\lib\\site-packages\\sklearn\\ensemble\\_forest.py\u001b[0m in \u001b[0;36m_parallel_build_trees\u001b[1;34m(tree, forest, X, y, sample_weight, tree_idx, n_trees, verbose, class_weight, n_samples_bootstrap)\u001b[0m\n\u001b[0;32m    166\u001b[0m                                                         indices=indices)\n\u001b[0;32m    167\u001b[0m \u001b[1;33m\u001b[0m\u001b[0m\n\u001b[1;32m--> 168\u001b[1;33m         \u001b[0mtree\u001b[0m\u001b[1;33m.\u001b[0m\u001b[0mfit\u001b[0m\u001b[1;33m(\u001b[0m\u001b[0mX\u001b[0m\u001b[1;33m,\u001b[0m \u001b[0my\u001b[0m\u001b[1;33m,\u001b[0m \u001b[0msample_weight\u001b[0m\u001b[1;33m=\u001b[0m\u001b[0mcurr_sample_weight\u001b[0m\u001b[1;33m,\u001b[0m \u001b[0mcheck_input\u001b[0m\u001b[1;33m=\u001b[0m\u001b[1;32mFalse\u001b[0m\u001b[1;33m)\u001b[0m\u001b[1;33m\u001b[0m\u001b[1;33m\u001b[0m\u001b[0m\n\u001b[0m\u001b[0;32m    169\u001b[0m     \u001b[1;32melse\u001b[0m\u001b[1;33m:\u001b[0m\u001b[1;33m\u001b[0m\u001b[1;33m\u001b[0m\u001b[0m\n\u001b[0;32m    170\u001b[0m         \u001b[0mtree\u001b[0m\u001b[1;33m.\u001b[0m\u001b[0mfit\u001b[0m\u001b[1;33m(\u001b[0m\u001b[0mX\u001b[0m\u001b[1;33m,\u001b[0m \u001b[0my\u001b[0m\u001b[1;33m,\u001b[0m \u001b[0msample_weight\u001b[0m\u001b[1;33m=\u001b[0m\u001b[0msample_weight\u001b[0m\u001b[1;33m,\u001b[0m \u001b[0mcheck_input\u001b[0m\u001b[1;33m=\u001b[0m\u001b[1;32mFalse\u001b[0m\u001b[1;33m)\u001b[0m\u001b[1;33m\u001b[0m\u001b[1;33m\u001b[0m\u001b[0m\n",
      "\u001b[1;32m~\\Anaconda3\\lib\\site-packages\\sklearn\\tree\\_classes.py\u001b[0m in \u001b[0;36mfit\u001b[1;34m(self, X, y, sample_weight, check_input, X_idx_sorted)\u001b[0m\n\u001b[0;32m    892\u001b[0m             \u001b[0msample_weight\u001b[0m\u001b[1;33m=\u001b[0m\u001b[0msample_weight\u001b[0m\u001b[1;33m,\u001b[0m\u001b[1;33m\u001b[0m\u001b[1;33m\u001b[0m\u001b[0m\n\u001b[0;32m    893\u001b[0m             \u001b[0mcheck_input\u001b[0m\u001b[1;33m=\u001b[0m\u001b[0mcheck_input\u001b[0m\u001b[1;33m,\u001b[0m\u001b[1;33m\u001b[0m\u001b[1;33m\u001b[0m\u001b[0m\n\u001b[1;32m--> 894\u001b[1;33m             X_idx_sorted=X_idx_sorted)\n\u001b[0m\u001b[0;32m    895\u001b[0m         \u001b[1;32mreturn\u001b[0m \u001b[0mself\u001b[0m\u001b[1;33m\u001b[0m\u001b[1;33m\u001b[0m\u001b[0m\n\u001b[0;32m    896\u001b[0m \u001b[1;33m\u001b[0m\u001b[0m\n",
      "\u001b[1;32m~\\Anaconda3\\lib\\site-packages\\sklearn\\tree\\_classes.py\u001b[0m in \u001b[0;36mfit\u001b[1;34m(self, X, y, sample_weight, check_input, X_idx_sorted)\u001b[0m\n\u001b[0;32m    373\u001b[0m                                            min_impurity_split)\n\u001b[0;32m    374\u001b[0m \u001b[1;33m\u001b[0m\u001b[0m\n\u001b[1;32m--> 375\u001b[1;33m         \u001b[0mbuilder\u001b[0m\u001b[1;33m.\u001b[0m\u001b[0mbuild\u001b[0m\u001b[1;33m(\u001b[0m\u001b[0mself\u001b[0m\u001b[1;33m.\u001b[0m\u001b[0mtree_\u001b[0m\u001b[1;33m,\u001b[0m \u001b[0mX\u001b[0m\u001b[1;33m,\u001b[0m \u001b[0my\u001b[0m\u001b[1;33m,\u001b[0m \u001b[0msample_weight\u001b[0m\u001b[1;33m,\u001b[0m \u001b[0mX_idx_sorted\u001b[0m\u001b[1;33m)\u001b[0m\u001b[1;33m\u001b[0m\u001b[1;33m\u001b[0m\u001b[0m\n\u001b[0m\u001b[0;32m    376\u001b[0m \u001b[1;33m\u001b[0m\u001b[0m\n\u001b[0;32m    377\u001b[0m         \u001b[1;32mif\u001b[0m \u001b[0mself\u001b[0m\u001b[1;33m.\u001b[0m\u001b[0mn_outputs_\u001b[0m \u001b[1;33m==\u001b[0m \u001b[1;36m1\u001b[0m \u001b[1;32mand\u001b[0m \u001b[0mis_classifier\u001b[0m\u001b[1;33m(\u001b[0m\u001b[0mself\u001b[0m\u001b[1;33m)\u001b[0m\u001b[1;33m:\u001b[0m\u001b[1;33m\u001b[0m\u001b[1;33m\u001b[0m\u001b[0m\n",
      "\u001b[1;31mKeyboardInterrupt\u001b[0m: "
     ]
    }
   ],
   "source": [
    "vectoriser = CountVectorizer(ngram_range=(1, 2))\n",
    "\n",
    "scores = []\n",
    "\n",
    "classifiers = {\n",
    "    #\"MNB\": MultinomialNB(),\n",
    "    \"RFC\": RandomForestClassifier(max_depth = 50),\n",
    "    \"ADA\": AdaBoostClassifier(),\n",
    "    \"XGB\": XGBClassifier(),\n",
    "    \"LR\": LogisticRegression(solver='lbfgs', multi_class='multinomial', max_iter=1000, C = 0.1),\n",
    "    \"SVMLINEAR\":  SVC(kernel='linear', C=1.0)\n",
    "}\n",
    "\n",
    "# Include the meta features with the doc2vec\n",
    "dataframe = pd.concat([d2v_200_train.reset_index(), train_meta.reset_index()], axis = 1)\n",
    "# Above concat method causes duplicating index column\n",
    "dataframe = dataframe.loc[:,~dataframe.columns.duplicated()]\n",
    "dataframe = dataframe.drop(columns = ['index'])\n",
    "    \n",
    "train = shuffle(dataframe, random_state = 0)\n",
    "folds = np.array_split(train, 5)\n",
    "\n",
    "\n",
    "# loop\n",
    "\n",
    "for fold_n in range(5):\n",
    "    \n",
    "    print(fold_n)\n",
    "    \n",
    "    train_folds = [folds[i] for i in range(len(folds)) if i != fold_n]\n",
    "    train_fold = pd.concat(train_folds, axis = 0)\n",
    "    test_fold = folds[fold_n]\n",
    "    \n",
    "    meta_train, meta_test = train_test_split(dataframe)\n",
    "    \n",
    "    # split and train the model. Include all columns other than rating in training\n",
    "    X_train, y_train = train_fold[train_fold.columns.difference([\"rating\"])], np.array(train_fold[\"rating\"])\n",
    "    X_test, y_test = test_fold[train_fold.columns.difference([\"rating\"])], np.array(test_fold[\"rating\"])\n",
    "\n",
    "    before = time.time()\n",
    "    clfs = []\n",
    "    predictions_list = []\n",
    "    \n",
    "    for classifier in list(classifiers.keys()):\n",
    "\n",
    "        clf = classifiers[classifier]\n",
    "        clfs.append(clf)\n",
    "        clf.fit(X_train, y_train)\n",
    "        score = clf.score(X_test, y_test)\n",
    "        print(\"{} accuracy {}\".format(classifier, score))\n",
    "        predictions = clf.predict(X_test)\n",
    "        predictions_list.append(predictions)\n",
    "\n",
    "    after = time.time()\n",
    "    print(\"TIME: \", after - before)\n",
    "    meta_clf = RandomForestClassifier()\n",
    "    meta_clf.fit(np.stack(predictions_list).transpose(), y_test)\n",
    "\n",
    "    # lets test the meta classifier on the meta test data\n",
    "\n",
    "    reviews = meta_test\n",
    "    new_predictions = []\n",
    "    \n",
    "    # Predict the test set without rating column\n",
    "    for clf in clfs:\n",
    "        predictions = clf.predict(meta_test[meta_test.columns.difference([\"rating\"])])\n",
    "        new_predictions.append(predictions)\n",
    "\n",
    "    score = meta_clf.score(np.stack(new_predictions).transpose(), meta_test.rating)\n",
    "    scores.append(score)\n",
    "    print(\"stacking accuracy is {}\".format(score))"
   ]
  },
  {
   "cell_type": "code",
   "execution_count": 15,
   "metadata": {},
   "outputs": [
    {
     "data": {
      "text/plain": [
       "0.8459455607809605"
      ]
     },
     "execution_count": 15,
     "metadata": {},
     "output_type": "execute_result"
    }
   ],
   "source": [
    "np.mean(scores)"
   ]
  },
  {
   "cell_type": "markdown",
   "metadata": {},
   "source": [
    "now try for splitVectorised()\n",
    "same as mike, but small changes to parameters in model. also trains random forest classifier differently to others (feature selection)   \n",
    "Using meta_clf = Logit:  \n",
    "all except mnb give 86.5  \n",
    "all except svm give 86.7, with lemmatokenizer and stop words 85%   \n",
    "all except mnb and svm gives 86.6    \n",
    "all except rfc = 86.5  \n",
    "using metaclf = XBG:  \n",
    "all except svm sometimes 77 most times 87.2  "
   ]
  },
  {
   "cell_type": "code",
   "execution_count": 36,
   "metadata": {},
   "outputs": [],
   "source": [
    "from sklearn.dummy import DummyClassifier"
   ]
  },
  {
   "cell_type": "code",
   "execution_count": 90,
   "metadata": {},
   "outputs": [
    {
     "name": "stdout",
     "output_type": "stream",
     "text": [
      "0\n",
      "MNB accuracy 0.7537402042270245\n",
      "RFC accuracy 0.7964853953930183\n",
      "ADA accuracy 0.7891237235810972\n",
      "XGB accuracy 0.8537164568985989\n",
      "LR accuracy 0.8727143196390406\n",
      "SVMLINEAR accuracy 0.865590121111375\n",
      "TIME 788.207319021225\n",
      "stacking accuracy is 0.8540686903235001\n",
      "1\n"
     ]
    },
    {
     "ename": "KeyboardInterrupt",
     "evalue": "",
     "output_type": "error",
     "traceback": [
      "\u001b[1;31m---------------------------------------------------------------------------\u001b[0m",
      "\u001b[1;31mKeyboardInterrupt\u001b[0m                         Traceback (most recent call last)",
      "\u001b[1;32m<ipython-input-90-2d91e5bf0203>\u001b[0m in \u001b[0;36m<module>\u001b[1;34m\u001b[0m\n\u001b[0;32m     33\u001b[0m     \u001b[0mX_test_txt\u001b[0m\u001b[1;33m,\u001b[0m \u001b[0my_test\u001b[0m \u001b[1;33m=\u001b[0m \u001b[0mtest_fold\u001b[0m\u001b[1;33m[\u001b[0m\u001b[1;34m\"review\"\u001b[0m\u001b[1;33m]\u001b[0m\u001b[1;33m,\u001b[0m \u001b[0mnp\u001b[0m\u001b[1;33m.\u001b[0m\u001b[0marray\u001b[0m\u001b[1;33m(\u001b[0m\u001b[0mtest_fold\u001b[0m\u001b[1;33m[\u001b[0m\u001b[1;34m\"rating\"\u001b[0m\u001b[1;33m]\u001b[0m\u001b[1;33m)\u001b[0m\u001b[1;33m\u001b[0m\u001b[1;33m\u001b[0m\u001b[0m\n\u001b[0;32m     34\u001b[0m \u001b[1;33m\u001b[0m\u001b[0m\n\u001b[1;32m---> 35\u001b[1;33m     \u001b[0mvectoriser\u001b[0m\u001b[1;33m.\u001b[0m\u001b[0mfit\u001b[0m\u001b[1;33m(\u001b[0m\u001b[0mX_train_txt\u001b[0m\u001b[1;33m)\u001b[0m\u001b[1;33m\u001b[0m\u001b[1;33m\u001b[0m\u001b[0m\n\u001b[0m\u001b[0;32m     36\u001b[0m     \u001b[0mX_train\u001b[0m \u001b[1;33m=\u001b[0m \u001b[0mvectoriser\u001b[0m\u001b[1;33m.\u001b[0m\u001b[0mtransform\u001b[0m\u001b[1;33m(\u001b[0m\u001b[0mX_train_txt\u001b[0m\u001b[1;33m)\u001b[0m\u001b[1;33m\u001b[0m\u001b[1;33m\u001b[0m\u001b[0m\n\u001b[0;32m     37\u001b[0m     \u001b[0mX_test\u001b[0m \u001b[1;33m=\u001b[0m \u001b[0mvectoriser\u001b[0m\u001b[1;33m.\u001b[0m\u001b[0mtransform\u001b[0m\u001b[1;33m(\u001b[0m\u001b[0mX_test_txt\u001b[0m\u001b[1;33m)\u001b[0m\u001b[1;33m\u001b[0m\u001b[1;33m\u001b[0m\u001b[0m\n",
      "\u001b[1;32m~\\Anaconda3\\lib\\site-packages\\sklearn\\feature_extraction\\text.py\u001b[0m in \u001b[0;36mfit\u001b[1;34m(self, raw_documents, y)\u001b[0m\n\u001b[0;32m   1163\u001b[0m         \"\"\"\n\u001b[0;32m   1164\u001b[0m         \u001b[0mself\u001b[0m\u001b[1;33m.\u001b[0m\u001b[0m_warn_for_unused_params\u001b[0m\u001b[1;33m(\u001b[0m\u001b[1;33m)\u001b[0m\u001b[1;33m\u001b[0m\u001b[1;33m\u001b[0m\u001b[0m\n\u001b[1;32m-> 1165\u001b[1;33m         \u001b[0mself\u001b[0m\u001b[1;33m.\u001b[0m\u001b[0mfit_transform\u001b[0m\u001b[1;33m(\u001b[0m\u001b[0mraw_documents\u001b[0m\u001b[1;33m)\u001b[0m\u001b[1;33m\u001b[0m\u001b[1;33m\u001b[0m\u001b[0m\n\u001b[0m\u001b[0;32m   1166\u001b[0m         \u001b[1;32mreturn\u001b[0m \u001b[0mself\u001b[0m\u001b[1;33m\u001b[0m\u001b[1;33m\u001b[0m\u001b[0m\n\u001b[0;32m   1167\u001b[0m \u001b[1;33m\u001b[0m\u001b[0m\n",
      "\u001b[1;32m~\\Anaconda3\\lib\\site-packages\\sklearn\\feature_extraction\\text.py\u001b[0m in \u001b[0;36mfit_transform\u001b[1;34m(self, raw_documents, y)\u001b[0m\n\u001b[0;32m   1218\u001b[0m                                                        max_features)\n\u001b[0;32m   1219\u001b[0m \u001b[1;33m\u001b[0m\u001b[0m\n\u001b[1;32m-> 1220\u001b[1;33m             \u001b[0mX\u001b[0m \u001b[1;33m=\u001b[0m \u001b[0mself\u001b[0m\u001b[1;33m.\u001b[0m\u001b[0m_sort_features\u001b[0m\u001b[1;33m(\u001b[0m\u001b[0mX\u001b[0m\u001b[1;33m,\u001b[0m \u001b[0mvocabulary\u001b[0m\u001b[1;33m)\u001b[0m\u001b[1;33m\u001b[0m\u001b[1;33m\u001b[0m\u001b[0m\n\u001b[0m\u001b[0;32m   1221\u001b[0m \u001b[1;33m\u001b[0m\u001b[0m\n\u001b[0;32m   1222\u001b[0m             \u001b[0mself\u001b[0m\u001b[1;33m.\u001b[0m\u001b[0mvocabulary_\u001b[0m \u001b[1;33m=\u001b[0m \u001b[0mvocabulary\u001b[0m\u001b[1;33m\u001b[0m\u001b[1;33m\u001b[0m\u001b[0m\n",
      "\u001b[1;32m~\\Anaconda3\\lib\\site-packages\\sklearn\\feature_extraction\\text.py\u001b[0m in \u001b[0;36m_sort_features\u001b[1;34m(self, X, vocabulary)\u001b[0m\n\u001b[0;32m   1041\u001b[0m         \"\"\"\n\u001b[0;32m   1042\u001b[0m         \u001b[0msorted_features\u001b[0m \u001b[1;33m=\u001b[0m \u001b[0msorted\u001b[0m\u001b[1;33m(\u001b[0m\u001b[0mvocabulary\u001b[0m\u001b[1;33m.\u001b[0m\u001b[0mitems\u001b[0m\u001b[1;33m(\u001b[0m\u001b[1;33m)\u001b[0m\u001b[1;33m)\u001b[0m\u001b[1;33m\u001b[0m\u001b[1;33m\u001b[0m\u001b[0m\n\u001b[1;32m-> 1043\u001b[1;33m         \u001b[0mmap_index\u001b[0m \u001b[1;33m=\u001b[0m \u001b[0mnp\u001b[0m\u001b[1;33m.\u001b[0m\u001b[0mempty\u001b[0m\u001b[1;33m(\u001b[0m\u001b[0mlen\u001b[0m\u001b[1;33m(\u001b[0m\u001b[0msorted_features\u001b[0m\u001b[1;33m)\u001b[0m\u001b[1;33m,\u001b[0m \u001b[0mdtype\u001b[0m\u001b[1;33m=\u001b[0m\u001b[0mX\u001b[0m\u001b[1;33m.\u001b[0m\u001b[0mindices\u001b[0m\u001b[1;33m.\u001b[0m\u001b[0mdtype\u001b[0m\u001b[1;33m)\u001b[0m\u001b[1;33m\u001b[0m\u001b[1;33m\u001b[0m\u001b[0m\n\u001b[0m\u001b[0;32m   1044\u001b[0m         \u001b[1;32mfor\u001b[0m \u001b[0mnew_val\u001b[0m\u001b[1;33m,\u001b[0m \u001b[1;33m(\u001b[0m\u001b[0mterm\u001b[0m\u001b[1;33m,\u001b[0m \u001b[0mold_val\u001b[0m\u001b[1;33m)\u001b[0m \u001b[1;32min\u001b[0m \u001b[0menumerate\u001b[0m\u001b[1;33m(\u001b[0m\u001b[0msorted_features\u001b[0m\u001b[1;33m)\u001b[0m\u001b[1;33m:\u001b[0m\u001b[1;33m\u001b[0m\u001b[1;33m\u001b[0m\u001b[0m\n\u001b[0;32m   1045\u001b[0m             \u001b[0mvocabulary\u001b[0m\u001b[1;33m[\u001b[0m\u001b[0mterm\u001b[0m\u001b[1;33m]\u001b[0m \u001b[1;33m=\u001b[0m \u001b[0mnew_val\u001b[0m\u001b[1;33m\u001b[0m\u001b[1;33m\u001b[0m\u001b[0m\n",
      "\u001b[1;31mKeyboardInterrupt\u001b[0m: "
     ]
    }
   ],
   "source": [
    "vectoriser = CountVectorizer(ngram_range=(1, 2))\n",
    "\n",
    "scores = []\n",
    "\n",
    "classifiers = {\n",
    "    \"MNB\": MultinomialNB(),\n",
    "    \"RFC\": RandomForestClassifier(max_depth = 50),\n",
    "    \"ADA\": AdaBoostClassifier(),\n",
    "    \"XGB\": XGBClassifier(),\n",
    "    \"LR\": LogisticRegression(solver='lbfgs', multi_class='multinomial', max_iter=1000, C = 0.1),\n",
    "    \"SVMLINEAR\":  SVC(kernel='linear', C=0.1)\n",
    "}\n",
    "\n",
    "# loop\n",
    "\n",
    "train = shuffle(train_data[['rating', 'review']], random_state = 0)\n",
    "folds = np.array_split(train, 5)\n",
    "\n",
    "for fold_n in range(5):\n",
    "    \n",
    "    print(fold_n)\n",
    "    \n",
    "    meta_train, meta_test = train_test_split(train_data[['rating', 'review']])\n",
    "    train = shuffle(meta_train)\n",
    "    \n",
    "    folds = np.array_split(train, 5)\n",
    "\n",
    "    train_folds = [folds[i] for i in range(len(folds)) if i != fold_n]\n",
    "    train_fold = pd.concat(train_folds, axis = 0)\n",
    "    test_fold = folds[fold_n]\n",
    "\n",
    "    X_train_txt, y_train = train_fold[\"review\"], np.array(train_fold[\"rating\"])\n",
    "    X_test_txt, y_test = test_fold[\"review\"], np.array(test_fold[\"rating\"])\n",
    "\n",
    "    vectoriser.fit(X_train_txt)\n",
    "    X_train = vectoriser.transform(X_train_txt)\n",
    "    X_test = vectoriser.transform(X_test_txt)\n",
    "\n",
    "    before = time.time()\n",
    "    \n",
    "    clfs = []\n",
    "    \n",
    "    predictions_list = []\n",
    "    \n",
    "    for classifier in list(classifiers.keys()):\n",
    "\n",
    "        clf = classifiers[classifier]\n",
    "        clfs.append(clf)\n",
    "        \n",
    "        # could so some feature selection here potentially, or train separate models differently\n",
    "        if(\"RFC\" in classifiers and classifier == \"RFC\"):\n",
    "            # Optimise RFC with feature selection. Train the model using these k features\n",
    "            x2 = SelectKBest(chi2, k=1000)\n",
    "            X_train_rfc = x2.fit_transform(X_train, y_train)\n",
    "            X_test_rfc = x2.transform(X_test)\n",
    "            \n",
    "            clf.fit(X_train_rfc, y_train)\n",
    "            \n",
    "            score = clf.score(X_test_rfc, y_test)\n",
    "            print(\"{} accuracy {}\".format(classifier, score))\n",
    "            \n",
    "            predictions = clf.predict(X_test_rfc)\n",
    "            \n",
    "        else:\n",
    "            clf.fit(X_train, y_train)\n",
    "            score = clf.score(X_test, y_test)\n",
    "            print(\"{} accuracy {}\".format(classifier, score))\n",
    "            predictions = clf.predict(X_test)\n",
    "            \n",
    "        predictions_list.append(predictions)\n",
    "\n",
    "    after = time.time()\n",
    "    print(\"TIME\", after - before)\n",
    "    \n",
    "    #meta_clf = RandomForestClassifier()\n",
    "    #meta_clf = DummyClassifier(strategy=\"most_frequent\")\n",
    "    #meta_clf = LogisticRegression(solver='lbfgs', multi_class='multinomial', max_iter=1000, C = 0.1)\n",
    "    #meta_clf = SVC(kernel='linear', C=1.0)\n",
    "    meta_clf = XGBClassifier()\n",
    "    \n",
    "    meta_clf.fit(np.stack(predictions_list).transpose(), y_test)\n",
    "\n",
    "    # lets test the meta classifier on the meta test data\n",
    "\n",
    "    reviews = vectoriser.transform(meta_test.review)\n",
    "    new_predictions = []\n",
    "    \n",
    "    for clf in clfs:\n",
    "        if(\"RFC\" in classifiers and clf == classifiers[\"RFC\"]):\n",
    "            # Select best k features in meta_test\n",
    "            x2 = SelectKBest(chi2, k=1000)\n",
    "            reviews_rfc = x2.fit_transform(reviews, meta_test.rating)\n",
    "            predictions = clf.predict(reviews_rfc)\n",
    "        else:\n",
    "            predictions = clf.predict(reviews)\n",
    "            \n",
    "        new_predictions.append(predictions)\n",
    "\n",
    "    score = meta_clf.score(np.stack(new_predictions).transpose(), meta_test.rating)\n",
    "    scores.append(score)\n",
    "    print(\"stacking accuracy is {}\".format(score))"
   ]
  },
  {
   "cell_type": "markdown",
   "metadata": {},
   "source": [
    "# try some kaggle"
   ]
  },
  {
   "cell_type": "code",
   "execution_count": 68,
   "metadata": {},
   "outputs": [
    {
     "name": "stdout",
     "output_type": "stream",
     "text": [
      "\u001b[1mTrained with vectorised features\u001b[0m\n",
      "The accuracy of the predictions is: 0.87068\n",
      "\n",
      "Confusion Matrix of Correctly Labeled Classes %'s\n",
      "\n",
      "Predicted         1         3         5\n",
      "Truths                                 \n",
      "1          0.669528  0.053613  0.003885\n",
      "3          0.193133  0.692308  0.041699\n",
      "5          0.137339  0.254079  0.954416\n",
      "\n",
      "\n",
      "\n"
     ]
    }
   ],
   "source": [
    "# Just normal Logistic regression model\n",
    "# using count vectoriser\n",
    "print('\\033[1m' + f\"Trained with vectorised features\" '\\033[0m')\n",
    "X_train, X_vali, Y_train, Y_vali, vectoriser = splitVectorised((1,2))\n",
    "clf = LogisticRegression(solver='lbfgs', multi_class='multinomial', max_iter=1000).fit(X_train, Y_train)\n",
    "Y_pred = clf.predict(X_vali)\n",
    "evaluate(Y_pred, Y_vali)"
   ]
  },
  {
   "cell_type": "code",
   "execution_count": 69,
   "metadata": {},
   "outputs": [
    {
     "data": {
      "text/plain": [
       "array([5, 5, 1, ..., 3, 5, 5], dtype=int64)"
      ]
     },
     "execution_count": 69,
     "metadata": {},
     "output_type": "execute_result"
    }
   ],
   "source": [
    "X_test = vectoriser.transform(test_text.review)\n",
    "Y_pred = clf.predict(X_test)\n",
    "Y_pred"
   ]
  },
  {
   "cell_type": "code",
   "execution_count": 73,
   "metadata": {},
   "outputs": [
    {
     "data": {
      "text/html": [
       "<div>\n",
       "<style scoped>\n",
       "    .dataframe tbody tr th:only-of-type {\n",
       "        vertical-align: middle;\n",
       "    }\n",
       "\n",
       "    .dataframe tbody tr th {\n",
       "        vertical-align: top;\n",
       "    }\n",
       "\n",
       "    .dataframe thead th {\n",
       "        text-align: right;\n",
       "    }\n",
       "</style>\n",
       "<table border=\"1\" class=\"dataframe\">\n",
       "  <thead>\n",
       "    <tr style=\"text-align: right;\">\n",
       "      <th></th>\n",
       "      <th>instance_id</th>\n",
       "      <th>rating</th>\n",
       "    </tr>\n",
       "  </thead>\n",
       "  <tbody>\n",
       "    <tr>\n",
       "      <th>0</th>\n",
       "      <td>1</td>\n",
       "      <td>5</td>\n",
       "    </tr>\n",
       "    <tr>\n",
       "      <th>1</th>\n",
       "      <td>2</td>\n",
       "      <td>5</td>\n",
       "    </tr>\n",
       "    <tr>\n",
       "      <th>2</th>\n",
       "      <td>3</td>\n",
       "      <td>1</td>\n",
       "    </tr>\n",
       "    <tr>\n",
       "      <th>3</th>\n",
       "      <td>4</td>\n",
       "      <td>3</td>\n",
       "    </tr>\n",
       "    <tr>\n",
       "      <th>4</th>\n",
       "      <td>5</td>\n",
       "      <td>5</td>\n",
       "    </tr>\n",
       "    <tr>\n",
       "      <th>5</th>\n",
       "      <td>6</td>\n",
       "      <td>5</td>\n",
       "    </tr>\n",
       "    <tr>\n",
       "      <th>6</th>\n",
       "      <td>7</td>\n",
       "      <td>5</td>\n",
       "    </tr>\n",
       "    <tr>\n",
       "      <th>7</th>\n",
       "      <td>8</td>\n",
       "      <td>5</td>\n",
       "    </tr>\n",
       "    <tr>\n",
       "      <th>8</th>\n",
       "      <td>9</td>\n",
       "      <td>5</td>\n",
       "    </tr>\n",
       "    <tr>\n",
       "      <th>9</th>\n",
       "      <td>10</td>\n",
       "      <td>5</td>\n",
       "    </tr>\n",
       "    <tr>\n",
       "      <th>10</th>\n",
       "      <td>11</td>\n",
       "      <td>5</td>\n",
       "    </tr>\n",
       "    <tr>\n",
       "      <th>11</th>\n",
       "      <td>12</td>\n",
       "      <td>5</td>\n",
       "    </tr>\n",
       "    <tr>\n",
       "      <th>12</th>\n",
       "      <td>13</td>\n",
       "      <td>5</td>\n",
       "    </tr>\n",
       "    <tr>\n",
       "      <th>13</th>\n",
       "      <td>14</td>\n",
       "      <td>5</td>\n",
       "    </tr>\n",
       "    <tr>\n",
       "      <th>14</th>\n",
       "      <td>15</td>\n",
       "      <td>5</td>\n",
       "    </tr>\n",
       "    <tr>\n",
       "      <th>15</th>\n",
       "      <td>16</td>\n",
       "      <td>1</td>\n",
       "    </tr>\n",
       "    <tr>\n",
       "      <th>16</th>\n",
       "      <td>17</td>\n",
       "      <td>5</td>\n",
       "    </tr>\n",
       "    <tr>\n",
       "      <th>17</th>\n",
       "      <td>18</td>\n",
       "      <td>5</td>\n",
       "    </tr>\n",
       "    <tr>\n",
       "      <th>18</th>\n",
       "      <td>19</td>\n",
       "      <td>5</td>\n",
       "    </tr>\n",
       "    <tr>\n",
       "      <th>19</th>\n",
       "      <td>20</td>\n",
       "      <td>5</td>\n",
       "    </tr>\n",
       "    <tr>\n",
       "      <th>20</th>\n",
       "      <td>21</td>\n",
       "      <td>5</td>\n",
       "    </tr>\n",
       "    <tr>\n",
       "      <th>21</th>\n",
       "      <td>22</td>\n",
       "      <td>1</td>\n",
       "    </tr>\n",
       "    <tr>\n",
       "      <th>22</th>\n",
       "      <td>23</td>\n",
       "      <td>5</td>\n",
       "    </tr>\n",
       "    <tr>\n",
       "      <th>23</th>\n",
       "      <td>24</td>\n",
       "      <td>3</td>\n",
       "    </tr>\n",
       "    <tr>\n",
       "      <th>24</th>\n",
       "      <td>25</td>\n",
       "      <td>3</td>\n",
       "    </tr>\n",
       "    <tr>\n",
       "      <th>25</th>\n",
       "      <td>26</td>\n",
       "      <td>5</td>\n",
       "    </tr>\n",
       "    <tr>\n",
       "      <th>26</th>\n",
       "      <td>27</td>\n",
       "      <td>5</td>\n",
       "    </tr>\n",
       "    <tr>\n",
       "      <th>27</th>\n",
       "      <td>28</td>\n",
       "      <td>3</td>\n",
       "    </tr>\n",
       "    <tr>\n",
       "      <th>28</th>\n",
       "      <td>29</td>\n",
       "      <td>5</td>\n",
       "    </tr>\n",
       "    <tr>\n",
       "      <th>29</th>\n",
       "      <td>30</td>\n",
       "      <td>3</td>\n",
       "    </tr>\n",
       "    <tr>\n",
       "      <th>...</th>\n",
       "      <td>...</td>\n",
       "      <td>...</td>\n",
       "    </tr>\n",
       "    <tr>\n",
       "      <th>6988</th>\n",
       "      <td>6989</td>\n",
       "      <td>5</td>\n",
       "    </tr>\n",
       "    <tr>\n",
       "      <th>6989</th>\n",
       "      <td>6990</td>\n",
       "      <td>5</td>\n",
       "    </tr>\n",
       "    <tr>\n",
       "      <th>6990</th>\n",
       "      <td>6991</td>\n",
       "      <td>5</td>\n",
       "    </tr>\n",
       "    <tr>\n",
       "      <th>6991</th>\n",
       "      <td>6992</td>\n",
       "      <td>3</td>\n",
       "    </tr>\n",
       "    <tr>\n",
       "      <th>6992</th>\n",
       "      <td>6993</td>\n",
       "      <td>3</td>\n",
       "    </tr>\n",
       "    <tr>\n",
       "      <th>6993</th>\n",
       "      <td>6994</td>\n",
       "      <td>3</td>\n",
       "    </tr>\n",
       "    <tr>\n",
       "      <th>6994</th>\n",
       "      <td>6995</td>\n",
       "      <td>5</td>\n",
       "    </tr>\n",
       "    <tr>\n",
       "      <th>6995</th>\n",
       "      <td>6996</td>\n",
       "      <td>5</td>\n",
       "    </tr>\n",
       "    <tr>\n",
       "      <th>6996</th>\n",
       "      <td>6997</td>\n",
       "      <td>5</td>\n",
       "    </tr>\n",
       "    <tr>\n",
       "      <th>6997</th>\n",
       "      <td>6998</td>\n",
       "      <td>5</td>\n",
       "    </tr>\n",
       "    <tr>\n",
       "      <th>6998</th>\n",
       "      <td>6999</td>\n",
       "      <td>5</td>\n",
       "    </tr>\n",
       "    <tr>\n",
       "      <th>6999</th>\n",
       "      <td>7000</td>\n",
       "      <td>3</td>\n",
       "    </tr>\n",
       "    <tr>\n",
       "      <th>7000</th>\n",
       "      <td>7001</td>\n",
       "      <td>5</td>\n",
       "    </tr>\n",
       "    <tr>\n",
       "      <th>7001</th>\n",
       "      <td>7002</td>\n",
       "      <td>5</td>\n",
       "    </tr>\n",
       "    <tr>\n",
       "      <th>7002</th>\n",
       "      <td>7003</td>\n",
       "      <td>5</td>\n",
       "    </tr>\n",
       "    <tr>\n",
       "      <th>7003</th>\n",
       "      <td>7004</td>\n",
       "      <td>5</td>\n",
       "    </tr>\n",
       "    <tr>\n",
       "      <th>7004</th>\n",
       "      <td>7005</td>\n",
       "      <td>5</td>\n",
       "    </tr>\n",
       "    <tr>\n",
       "      <th>7005</th>\n",
       "      <td>7006</td>\n",
       "      <td>5</td>\n",
       "    </tr>\n",
       "    <tr>\n",
       "      <th>7006</th>\n",
       "      <td>7007</td>\n",
       "      <td>5</td>\n",
       "    </tr>\n",
       "    <tr>\n",
       "      <th>7007</th>\n",
       "      <td>7008</td>\n",
       "      <td>5</td>\n",
       "    </tr>\n",
       "    <tr>\n",
       "      <th>7008</th>\n",
       "      <td>7009</td>\n",
       "      <td>5</td>\n",
       "    </tr>\n",
       "    <tr>\n",
       "      <th>7009</th>\n",
       "      <td>7010</td>\n",
       "      <td>5</td>\n",
       "    </tr>\n",
       "    <tr>\n",
       "      <th>7010</th>\n",
       "      <td>7011</td>\n",
       "      <td>5</td>\n",
       "    </tr>\n",
       "    <tr>\n",
       "      <th>7011</th>\n",
       "      <td>7012</td>\n",
       "      <td>1</td>\n",
       "    </tr>\n",
       "    <tr>\n",
       "      <th>7012</th>\n",
       "      <td>7013</td>\n",
       "      <td>3</td>\n",
       "    </tr>\n",
       "    <tr>\n",
       "      <th>7013</th>\n",
       "      <td>7014</td>\n",
       "      <td>5</td>\n",
       "    </tr>\n",
       "    <tr>\n",
       "      <th>7014</th>\n",
       "      <td>7015</td>\n",
       "      <td>5</td>\n",
       "    </tr>\n",
       "    <tr>\n",
       "      <th>7015</th>\n",
       "      <td>7016</td>\n",
       "      <td>3</td>\n",
       "    </tr>\n",
       "    <tr>\n",
       "      <th>7016</th>\n",
       "      <td>7017</td>\n",
       "      <td>5</td>\n",
       "    </tr>\n",
       "    <tr>\n",
       "      <th>7017</th>\n",
       "      <td>7018</td>\n",
       "      <td>5</td>\n",
       "    </tr>\n",
       "  </tbody>\n",
       "</table>\n",
       "<p>7018 rows × 2 columns</p>\n",
       "</div>"
      ],
      "text/plain": [
       "      instance_id  rating\n",
       "0               1       5\n",
       "1               2       5\n",
       "2               3       1\n",
       "3               4       3\n",
       "4               5       5\n",
       "5               6       5\n",
       "6               7       5\n",
       "7               8       5\n",
       "8               9       5\n",
       "9              10       5\n",
       "10             11       5\n",
       "11             12       5\n",
       "12             13       5\n",
       "13             14       5\n",
       "14             15       5\n",
       "15             16       1\n",
       "16             17       5\n",
       "17             18       5\n",
       "18             19       5\n",
       "19             20       5\n",
       "20             21       5\n",
       "21             22       1\n",
       "22             23       5\n",
       "23             24       3\n",
       "24             25       3\n",
       "25             26       5\n",
       "26             27       5\n",
       "27             28       3\n",
       "28             29       5\n",
       "29             30       3\n",
       "...           ...     ...\n",
       "6988         6989       5\n",
       "6989         6990       5\n",
       "6990         6991       5\n",
       "6991         6992       3\n",
       "6992         6993       3\n",
       "6993         6994       3\n",
       "6994         6995       5\n",
       "6995         6996       5\n",
       "6996         6997       5\n",
       "6997         6998       5\n",
       "6998         6999       5\n",
       "6999         7000       3\n",
       "7000         7001       5\n",
       "7001         7002       5\n",
       "7002         7003       5\n",
       "7003         7004       5\n",
       "7004         7005       5\n",
       "7005         7006       5\n",
       "7006         7007       5\n",
       "7007         7008       5\n",
       "7008         7009       5\n",
       "7009         7010       5\n",
       "7010         7011       5\n",
       "7011         7012       1\n",
       "7012         7013       3\n",
       "7013         7014       5\n",
       "7014         7015       5\n",
       "7015         7016       3\n",
       "7016         7017       5\n",
       "7017         7018       5\n",
       "\n",
       "[7018 rows x 2 columns]"
      ]
     },
     "execution_count": 73,
     "metadata": {},
     "output_type": "execute_result"
    }
   ],
   "source": [
    "predictionsdf = pd.DataFrame(list(enumerate(Y_pred, start = 1)))\n",
    "predictionsdf = predictionsdf.rename(columns = {0: 'instance_id', 1: 'rating'})\n",
    "predictionsdf.to_csv(\"preds1.csv\", index = False)\n",
    "predictionsdf"
   ]
  },
  {
   "cell_type": "code",
   "execution_count": null,
   "metadata": {},
   "outputs": [],
   "source": []
  },
  {
   "cell_type": "code",
   "execution_count": 80,
   "metadata": {},
   "outputs": [
    {
     "name": "stdout",
     "output_type": "stream",
     "text": [
      "LR accuracy 0.8818583440216616\n"
     ]
    },
    {
     "data": {
      "text/plain": [
       "LogisticRegression(C=0.1, max_iter=1000, multi_class='multinomial')"
      ]
     },
     "execution_count": 80,
     "metadata": {},
     "output_type": "execute_result"
    }
   ],
   "source": [
    "# Try the stacking model now\n",
    "\n",
    "vectoriser = CountVectorizer(ngram_range=(1, 2))\n",
    "\n",
    "scores = []\n",
    "\n",
    "classifiers = {\n",
    "    #\"MNB\": MultinomialNB(),\n",
    "    #\"RFC\": RandomForestClassifier(max_depth = 50),\n",
    "    #\"ADA\": AdaBoostClassifier(),\n",
    "    #\"XGB\": XGBClassifier(),\n",
    "    \"LR\": LogisticRegression(solver='lbfgs', multi_class='multinomial', max_iter=1000, C = 0.1)\n",
    "    #\"SVMLINEAR\":  SVC(kernel='linear', C=1.0)\n",
    "}\n",
    "\n",
    "# loop\n",
    "\n",
    "\n",
    "meta_train, meta_test = train_test_split(train_data[['rating', 'review']])\n",
    "train = shuffle(meta_train)\n",
    "    \n",
    "vectoriser.fit(X_train_txt)\n",
    "X_train = vectoriser.transform(meta_train.review)\n",
    "Y_train = meta_train.rating\n",
    "\n",
    "X_test = vectoriser.transform(meta_test.review)\n",
    "y_test = meta_test.rating\n",
    "    \n",
    "clfs = []\n",
    "\n",
    "predictions_list = []\n",
    "    \n",
    "for classifier in list(classifiers.keys()):\n",
    "\n",
    "    clf = classifiers[classifier]\n",
    "    clfs.append(clf)\n",
    "        \n",
    "    # could so some feature selection here potentially, or train separate models differently\n",
    "    if(\"RFC\" in classifiers and classifier == \"RFC\"):\n",
    "        # Optimise RFC with feature selection. Train the model using these k features\n",
    "        x2 = SelectKBest(chi2, k=1000)\n",
    "        X_train_rfc = x2.fit_transform(X_train, y_train)\n",
    "        X_test_rfc = x2.transform(X_test)\n",
    "            \n",
    "        clf.fit(X_train_rfc, Y_train)\n",
    "            \n",
    "        score = clf.score(X_test_rfc, y_test)\n",
    "        print(\"{} accuracy {}\".format(classifier, score))\n",
    "            \n",
    "        predictions = clf.predict(X_test_rfc)\n",
    "            \n",
    "    else:\n",
    "        clf.fit(X_train, Y_train)\n",
    "        score = clf.score(X_test, y_test)\n",
    "        print(\"{} accuracy {}\".format(classifier, score))\n",
    "        predictions = clf.predict(X_test)\n",
    "            \n",
    "    predictions_list.append(predictions)\n",
    "\n",
    "#meta_clf = RandomForestClassifier()\n",
    "#meta_clf = DummyClassifier(strategy=\"most_frequent\")\n",
    "meta_clf = LogisticRegression(solver='lbfgs', multi_class='multinomial', max_iter=1000, C = 0.1)\n",
    "#meta_cld = SVC(kernel='linear', C=1.0)\n",
    "    \n",
    "meta_clf.fit(np.stack(predictions_list).transpose(), y_test)\n"
   ]
  },
  {
   "cell_type": "code",
   "execution_count": 82,
   "metadata": {},
   "outputs": [
    {
     "data": {
      "text/plain": [
       "array([5, 5, 1, ..., 5, 5, 5], dtype=int64)"
      ]
     },
     "execution_count": 82,
     "metadata": {},
     "output_type": "execute_result"
    }
   ],
   "source": [
    "X_test = vectoriser.transform(test_text.review)\n",
    "\n",
    "predictions_list = []\n",
    "\n",
    "for classifier in list(classifiers.keys()):\n",
    "\n",
    "    clf = classifiers[classifier]\n",
    "\n",
    "    predictions = clf.predict(X_test)\n",
    "\n",
    "    predictions_list.append(predictions)\n",
    "    \n",
    "predictions = meta_clf.predict(np.stack(predictions_list).transpose())\n",
    "\n",
    "predictions\n",
    "\n"
   ]
  },
  {
   "cell_type": "code",
   "execution_count": null,
   "metadata": {},
   "outputs": [],
   "source": []
  },
  {
   "cell_type": "code",
   "execution_count": null,
   "metadata": {},
   "outputs": [],
   "source": []
  },
  {
   "cell_type": "code",
   "execution_count": null,
   "metadata": {},
   "outputs": [],
   "source": []
  },
  {
   "cell_type": "markdown",
   "metadata": {},
   "source": [
    "# Predictions"
   ]
  },
  {
   "cell_type": "code",
   "execution_count": 173,
   "metadata": {},
   "outputs": [],
   "source": [
    "X = train_data.review\n",
    "y = train_data.rating\n",
    "\n",
    "other_features = ['total_votes', 'vote_funny', 'vote_cool', 'vote_useful']\n",
    "features = train_data[other_features]"
   ]
  },
  {
   "cell_type": "code",
   "execution_count": 174,
   "metadata": {},
   "outputs": [],
   "source": [
    "vectorizer = CountVectorizer(ngram_range = (1, 2))\n",
    "vectorizer.fit(X)\n",
    "X = vectorizer.transform(X)\n",
    "\n",
    "# stack the other features\n",
    "from scipy import sparse\n",
    "X = sparse.hstack((X, np.array(features)))"
   ]
  },
  {
   "cell_type": "code",
   "execution_count": 175,
   "metadata": {},
   "outputs": [],
   "source": [
    "KBest = SelectKBest(chi2, k = 1000)\n",
    "KBest.fit(X, y)\n",
    "X_train_best = KBest.transform(X)"
   ]
  },
  {
   "cell_type": "code",
   "execution_count": 176,
   "metadata": {},
   "outputs": [
    {
     "data": {
      "text/plain": [
       "LogisticRegression(C=0.1, class_weight=None, dual=False, fit_intercept=True,\n",
       "                   intercept_scaling=1, l1_ratio=None, max_iter=1000000,\n",
       "                   multi_class='auto', n_jobs=None, penalty='l2',\n",
       "                   random_state=None, solver='lbfgs', tol=0.0001, verbose=0,\n",
       "                   warm_start=False)"
      ]
     },
     "execution_count": 176,
     "metadata": {},
     "output_type": "execute_result"
    }
   ],
   "source": [
    "logreg = LogisticRegression(C = 0.1, max_iter = 1000000, penalty = 'l2')\n",
    "logreg.fit(X_train_best, y)"
   ]
  },
  {
   "cell_type": "code",
   "execution_count": 177,
   "metadata": {},
   "outputs": [],
   "source": [
    "X_predict = test_data.review\n",
    "X_predict = vectorizer.transform(X_predict)\n",
    "\n",
    "test_data['total_votes'] = test_data['vote_funny'] + test_data['vote_cool'] + test_data['vote_useful']\n",
    "features = test_data[other_features]\n",
    "X_predict = sparse.hstack((X_predict, np.array(features)))\n",
    "\n",
    "X_predict = KBest.transform(X_predict)\n",
    "\n",
    "predictions = logreg.predict(X_predict)"
   ]
  },
  {
   "cell_type": "code",
   "execution_count": 178,
   "metadata": {},
   "outputs": [
    {
     "data": {
      "text/plain": [
       "array([5, 5, 1, ..., 3, 5, 5], dtype=int64)"
      ]
     },
     "execution_count": 178,
     "metadata": {},
     "output_type": "execute_result"
    }
   ],
   "source": [
    "predictions"
   ]
  },
  {
   "cell_type": "code",
   "execution_count": null,
   "metadata": {},
   "outputs": [],
   "source": []
  },
  {
   "cell_type": "code",
   "execution_count": null,
   "metadata": {},
   "outputs": [],
   "source": []
  },
  {
   "cell_type": "code",
   "execution_count": 179,
   "metadata": {},
   "outputs": [
    {
     "data": {
      "text/html": [
       "<div>\n",
       "<style scoped>\n",
       "    .dataframe tbody tr th:only-of-type {\n",
       "        vertical-align: middle;\n",
       "    }\n",
       "\n",
       "    .dataframe tbody tr th {\n",
       "        vertical-align: top;\n",
       "    }\n",
       "\n",
       "    .dataframe thead th {\n",
       "        text-align: right;\n",
       "    }\n",
       "</style>\n",
       "<table border=\"1\" class=\"dataframe\">\n",
       "  <thead>\n",
       "    <tr style=\"text-align: right;\">\n",
       "      <th></th>\n",
       "      <th>instance_id</th>\n",
       "      <th>rating</th>\n",
       "    </tr>\n",
       "  </thead>\n",
       "  <tbody>\n",
       "    <tr>\n",
       "      <th>0</th>\n",
       "      <td>1</td>\n",
       "      <td>5</td>\n",
       "    </tr>\n",
       "    <tr>\n",
       "      <th>1</th>\n",
       "      <td>2</td>\n",
       "      <td>5</td>\n",
       "    </tr>\n",
       "    <tr>\n",
       "      <th>2</th>\n",
       "      <td>3</td>\n",
       "      <td>1</td>\n",
       "    </tr>\n",
       "    <tr>\n",
       "      <th>3</th>\n",
       "      <td>4</td>\n",
       "      <td>3</td>\n",
       "    </tr>\n",
       "    <tr>\n",
       "      <th>4</th>\n",
       "      <td>5</td>\n",
       "      <td>5</td>\n",
       "    </tr>\n",
       "    <tr>\n",
       "      <th>...</th>\n",
       "      <td>...</td>\n",
       "      <td>...</td>\n",
       "    </tr>\n",
       "    <tr>\n",
       "      <th>7013</th>\n",
       "      <td>7014</td>\n",
       "      <td>5</td>\n",
       "    </tr>\n",
       "    <tr>\n",
       "      <th>7014</th>\n",
       "      <td>7015</td>\n",
       "      <td>5</td>\n",
       "    </tr>\n",
       "    <tr>\n",
       "      <th>7015</th>\n",
       "      <td>7016</td>\n",
       "      <td>3</td>\n",
       "    </tr>\n",
       "    <tr>\n",
       "      <th>7016</th>\n",
       "      <td>7017</td>\n",
       "      <td>5</td>\n",
       "    </tr>\n",
       "    <tr>\n",
       "      <th>7017</th>\n",
       "      <td>7018</td>\n",
       "      <td>5</td>\n",
       "    </tr>\n",
       "  </tbody>\n",
       "</table>\n",
       "<p>7018 rows × 2 columns</p>\n",
       "</div>"
      ],
      "text/plain": [
       "      instance_id  rating\n",
       "0               1       5\n",
       "1               2       5\n",
       "2               3       1\n",
       "3               4       3\n",
       "4               5       5\n",
       "...           ...     ...\n",
       "7013         7014       5\n",
       "7014         7015       5\n",
       "7015         7016       3\n",
       "7016         7017       5\n",
       "7017         7018       5\n",
       "\n",
       "[7018 rows x 2 columns]"
      ]
     },
     "execution_count": 179,
     "metadata": {},
     "output_type": "execute_result"
    }
   ],
   "source": [
    "predictionsdf = pd.DataFrame(list(enumerate(predictions, start = 1)))\n",
    "predictionsdf = predictionsdf.rename(columns = {0: 'instance_id', 1: 'rating'})\n",
    "predictionsdf.to_csv(\"logistic_regression.csv\", index = False)\n",
    "predictionsdf"
   ]
  },
  {
   "cell_type": "code",
   "execution_count": null,
   "metadata": {},
   "outputs": [],
   "source": []
  }
 ],
 "metadata": {
  "kernelspec": {
   "display_name": "Python 3",
   "language": "python",
   "name": "python3"
  },
  "language_info": {
   "codemirror_mode": {
    "name": "ipython",
    "version": 3
   },
   "file_extension": ".py",
   "mimetype": "text/x-python",
   "name": "python",
   "nbconvert_exporter": "python",
   "pygments_lexer": "ipython3",
   "version": "3.7.4"
  }
 },
 "nbformat": 4,
 "nbformat_minor": 2
}
